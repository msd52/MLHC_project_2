{
  "nbformat": 4,
  "nbformat_minor": 0,
  "metadata": {
    "colab": {
      "provenance": [],
      "toc_visible": true,
      "collapsed_sections": []
    },
    "kernelspec": {
      "name": "python3",
      "display_name": "Python 3"
    },
    "language_info": {
      "name": "python"
    }
  },
  "cells": [
    {
      "cell_type": "markdown",
      "source": [
        "# Imports"
      ],
      "metadata": {
        "id": "KIDdlRIcvtTe"
      }
    },
    {
      "cell_type": "markdown",
      "source": [
        "Make sure the train.7z, train.txt, dev.txt and test.txt files are uploaded to the colab"
      ],
      "metadata": {
        "id": "vPWmTyunqvIi"
      }
    },
    {
      "cell_type": "code",
      "execution_count": null,
      "metadata": {
        "id": "X014JfDiuB9d",
        "colab": {
          "base_uri": "https://localhost:8080/",
          "height": 1000
        },
        "outputId": "f37209c5-0d95-4a7b-dddf-af568f46c422"
      },
      "outputs": [
        {
          "output_type": "stream",
          "name": "stdout",
          "text": [
            "Requirement already satisfied: lightgbm in /usr/local/lib/python3.7/dist-packages (2.2.3)\n",
            "Requirement already satisfied: scipy in /usr/local/lib/python3.7/dist-packages (from lightgbm) (1.4.1)\n",
            "Requirement already satisfied: scikit-learn in /usr/local/lib/python3.7/dist-packages (from lightgbm) (1.0.2)\n",
            "Requirement already satisfied: numpy in /usr/local/lib/python3.7/dist-packages (from lightgbm) (1.21.6)\n",
            "Requirement already satisfied: joblib>=0.11 in /usr/local/lib/python3.7/dist-packages (from scikit-learn->lightgbm) (1.1.0)\n",
            "Requirement already satisfied: threadpoolctl>=2.0.0 in /usr/local/lib/python3.7/dist-packages (from scikit-learn->lightgbm) (3.1.0)\n",
            "[nltk_data] Downloading package stopwords to /root/nltk_data...\n",
            "[nltk_data]   Package stopwords is already up-to-date!\n",
            "[nltk_data] Downloading package wordnet to /root/nltk_data...\n",
            "[nltk_data]   Package wordnet is already up-to-date!\n",
            "[nltk_data] Downloading package punkt to /root/nltk_data...\n",
            "[nltk_data]   Package punkt is already up-to-date!\n",
            "[nltk_data] Downloading package averaged_perceptron_tagger to\n",
            "[nltk_data]     /root/nltk_data...\n",
            "[nltk_data]   Package averaged_perceptron_tagger is already up-to-\n",
            "[nltk_data]       date!\n",
            "Requirement already satisfied: gensim in /usr/local/lib/python3.7/dist-packages (4.1.2)\n",
            "Requirement already satisfied: scipy>=0.18.1 in /usr/local/lib/python3.7/dist-packages (from gensim) (1.4.1)\n",
            "Requirement already satisfied: smart-open>=1.8.1 in /usr/local/lib/python3.7/dist-packages (from gensim) (5.2.1)\n",
            "Requirement already satisfied: numpy>=1.17.0 in /usr/local/lib/python3.7/dist-packages (from gensim) (1.21.6)\n",
            "Collecting transformers\n",
            "  Downloading transformers-4.18.0-py3-none-any.whl (4.0 MB)\n",
            "\u001b[K     |████████████████████████████████| 4.0 MB 3.2 MB/s \n",
            "\u001b[?25hRequirement already satisfied: numpy>=1.17 in /usr/local/lib/python3.7/dist-packages (from transformers) (1.21.6)\n",
            "Collecting tokenizers!=0.11.3,<0.13,>=0.11.1\n",
            "  Downloading tokenizers-0.12.1-cp37-cp37m-manylinux_2_12_x86_64.manylinux2010_x86_64.whl (6.6 MB)\n",
            "\u001b[K     |████████████████████████████████| 6.6 MB 36.0 MB/s \n",
            "\u001b[?25hRequirement already satisfied: regex!=2019.12.17 in /usr/local/lib/python3.7/dist-packages (from transformers) (2019.12.20)\n",
            "Requirement already satisfied: tqdm>=4.27 in /usr/local/lib/python3.7/dist-packages (from transformers) (4.64.0)\n",
            "Collecting pyyaml>=5.1\n",
            "  Downloading PyYAML-6.0-cp37-cp37m-manylinux_2_5_x86_64.manylinux1_x86_64.manylinux_2_12_x86_64.manylinux2010_x86_64.whl (596 kB)\n",
            "\u001b[K     |████████████████████████████████| 596 kB 39.4 MB/s \n",
            "\u001b[?25hCollecting sacremoses\n",
            "  Downloading sacremoses-0.0.49-py3-none-any.whl (895 kB)\n",
            "\u001b[K     |████████████████████████████████| 895 kB 51.6 MB/s \n",
            "\u001b[?25hRequirement already satisfied: importlib-metadata in /usr/local/lib/python3.7/dist-packages (from transformers) (4.11.3)\n",
            "Requirement already satisfied: requests in /usr/local/lib/python3.7/dist-packages (from transformers) (2.23.0)\n",
            "Requirement already satisfied: packaging>=20.0 in /usr/local/lib/python3.7/dist-packages (from transformers) (21.3)\n",
            "Requirement already satisfied: filelock in /usr/local/lib/python3.7/dist-packages (from transformers) (3.6.0)\n",
            "Collecting huggingface-hub<1.0,>=0.1.0\n",
            "  Downloading huggingface_hub-0.5.1-py3-none-any.whl (77 kB)\n",
            "\u001b[K     |████████████████████████████████| 77 kB 6.7 MB/s \n",
            "\u001b[?25hRequirement already satisfied: typing-extensions>=3.7.4.3 in /usr/local/lib/python3.7/dist-packages (from huggingface-hub<1.0,>=0.1.0->transformers) (4.2.0)\n",
            "Requirement already satisfied: pyparsing!=3.0.5,>=2.0.2 in /usr/local/lib/python3.7/dist-packages (from packaging>=20.0->transformers) (3.0.8)\n",
            "Requirement already satisfied: zipp>=0.5 in /usr/local/lib/python3.7/dist-packages (from importlib-metadata->transformers) (3.8.0)\n",
            "Requirement already satisfied: certifi>=2017.4.17 in /usr/local/lib/python3.7/dist-packages (from requests->transformers) (2021.10.8)\n",
            "Requirement already satisfied: idna<3,>=2.5 in /usr/local/lib/python3.7/dist-packages (from requests->transformers) (2.10)\n",
            "Requirement already satisfied: urllib3!=1.25.0,!=1.25.1,<1.26,>=1.21.1 in /usr/local/lib/python3.7/dist-packages (from requests->transformers) (1.24.3)\n",
            "Requirement already satisfied: chardet<4,>=3.0.2 in /usr/local/lib/python3.7/dist-packages (from requests->transformers) (3.0.4)\n",
            "Requirement already satisfied: six in /usr/local/lib/python3.7/dist-packages (from sacremoses->transformers) (1.15.0)\n",
            "Requirement already satisfied: click in /usr/local/lib/python3.7/dist-packages (from sacremoses->transformers) (7.1.2)\n",
            "Requirement already satisfied: joblib in /usr/local/lib/python3.7/dist-packages (from sacremoses->transformers) (1.1.0)\n",
            "Installing collected packages: pyyaml, tokenizers, sacremoses, huggingface-hub, transformers\n",
            "  Attempting uninstall: pyyaml\n",
            "    Found existing installation: PyYAML 3.13\n",
            "    Uninstalling PyYAML-3.13:\n",
            "      Successfully uninstalled PyYAML-3.13\n",
            "Successfully installed huggingface-hub-0.5.1 pyyaml-6.0 sacremoses-0.0.49 tokenizers-0.12.1 transformers-4.18.0\n",
            "Collecting datasets\n",
            "  Downloading datasets-2.1.0-py3-none-any.whl (325 kB)\n",
            "\u001b[K     |████████████████████████████████| 325 kB 3.2 MB/s \n",
            "\u001b[?25hRequirement already satisfied: multiprocess in /usr/local/lib/python3.7/dist-packages (from datasets) (0.70.12.2)\n",
            "Collecting fsspec[http]>=2021.05.0\n",
            "  Downloading fsspec-2022.3.0-py3-none-any.whl (136 kB)\n",
            "\u001b[K     |████████████████████████████████| 136 kB 40.0 MB/s \n",
            "\u001b[?25hRequirement already satisfied: importlib-metadata in /usr/local/lib/python3.7/dist-packages (from datasets) (4.11.3)\n",
            "Requirement already satisfied: requests>=2.19.0 in /usr/local/lib/python3.7/dist-packages (from datasets) (2.23.0)\n",
            "Requirement already satisfied: pandas in /usr/local/lib/python3.7/dist-packages (from datasets) (1.3.5)\n",
            "Collecting aiohttp\n",
            "  Downloading aiohttp-3.8.1-cp37-cp37m-manylinux_2_5_x86_64.manylinux1_x86_64.manylinux_2_12_x86_64.manylinux2010_x86_64.whl (1.1 MB)\n",
            "\u001b[K     |████████████████████████████████| 1.1 MB 58.8 MB/s \n",
            "\u001b[?25hCollecting xxhash\n",
            "  Downloading xxhash-3.0.0-cp37-cp37m-manylinux_2_17_x86_64.manylinux2014_x86_64.whl (212 kB)\n",
            "\u001b[K     |████████████████████████████████| 212 kB 60.5 MB/s \n",
            "\u001b[?25hRequirement already satisfied: packaging in /usr/local/lib/python3.7/dist-packages (from datasets) (21.3)\n",
            "Requirement already satisfied: dill in /usr/local/lib/python3.7/dist-packages (from datasets) (0.3.4)\n",
            "Requirement already satisfied: tqdm>=4.62.1 in /usr/local/lib/python3.7/dist-packages (from datasets) (4.64.0)\n",
            "Requirement already satisfied: pyarrow>=5.0.0 in /usr/local/lib/python3.7/dist-packages (from datasets) (6.0.1)\n",
            "Collecting responses<0.19\n",
            "  Downloading responses-0.18.0-py3-none-any.whl (38 kB)\n",
            "Requirement already satisfied: huggingface-hub<1.0.0,>=0.1.0 in /usr/local/lib/python3.7/dist-packages (from datasets) (0.5.1)\n",
            "Requirement already satisfied: numpy>=1.17 in /usr/local/lib/python3.7/dist-packages (from datasets) (1.21.6)\n",
            "Requirement already satisfied: typing-extensions>=3.7.4.3 in /usr/local/lib/python3.7/dist-packages (from huggingface-hub<1.0.0,>=0.1.0->datasets) (4.2.0)\n",
            "Requirement already satisfied: pyyaml in /usr/local/lib/python3.7/dist-packages (from huggingface-hub<1.0.0,>=0.1.0->datasets) (6.0)\n",
            "Requirement already satisfied: filelock in /usr/local/lib/python3.7/dist-packages (from huggingface-hub<1.0.0,>=0.1.0->datasets) (3.6.0)\n",
            "Requirement already satisfied: pyparsing!=3.0.5,>=2.0.2 in /usr/local/lib/python3.7/dist-packages (from packaging->datasets) (3.0.8)\n",
            "Requirement already satisfied: chardet<4,>=3.0.2 in /usr/local/lib/python3.7/dist-packages (from requests>=2.19.0->datasets) (3.0.4)\n",
            "Requirement already satisfied: certifi>=2017.4.17 in /usr/local/lib/python3.7/dist-packages (from requests>=2.19.0->datasets) (2021.10.8)\n",
            "Requirement already satisfied: urllib3!=1.25.0,!=1.25.1,<1.26,>=1.21.1 in /usr/local/lib/python3.7/dist-packages (from requests>=2.19.0->datasets) (1.24.3)\n",
            "Requirement already satisfied: idna<3,>=2.5 in /usr/local/lib/python3.7/dist-packages (from requests>=2.19.0->datasets) (2.10)\n",
            "Collecting urllib3!=1.25.0,!=1.25.1,<1.26,>=1.21.1\n",
            "  Downloading urllib3-1.25.11-py2.py3-none-any.whl (127 kB)\n",
            "\u001b[K     |████████████████████████████████| 127 kB 28.5 MB/s \n",
            "\u001b[?25hRequirement already satisfied: charset-normalizer<3.0,>=2.0 in /usr/local/lib/python3.7/dist-packages (from aiohttp->datasets) (2.0.12)\n",
            "Collecting yarl<2.0,>=1.0\n",
            "  Downloading yarl-1.7.2-cp37-cp37m-manylinux_2_5_x86_64.manylinux1_x86_64.manylinux_2_12_x86_64.manylinux2010_x86_64.whl (271 kB)\n",
            "\u001b[K     |████████████████████████████████| 271 kB 50.7 MB/s \n",
            "\u001b[?25hCollecting asynctest==0.13.0\n",
            "  Downloading asynctest-0.13.0-py3-none-any.whl (26 kB)\n",
            "Collecting aiosignal>=1.1.2\n",
            "  Downloading aiosignal-1.2.0-py3-none-any.whl (8.2 kB)\n",
            "Requirement already satisfied: attrs>=17.3.0 in /usr/local/lib/python3.7/dist-packages (from aiohttp->datasets) (21.4.0)\n",
            "Collecting multidict<7.0,>=4.5\n",
            "  Downloading multidict-6.0.2-cp37-cp37m-manylinux_2_17_x86_64.manylinux2014_x86_64.whl (94 kB)\n",
            "\u001b[K     |████████████████████████████████| 94 kB 2.8 MB/s \n",
            "\u001b[?25hCollecting async-timeout<5.0,>=4.0.0a3\n",
            "  Downloading async_timeout-4.0.2-py3-none-any.whl (5.8 kB)\n",
            "Collecting frozenlist>=1.1.1\n",
            "  Downloading frozenlist-1.3.0-cp37-cp37m-manylinux_2_5_x86_64.manylinux1_x86_64.manylinux_2_17_x86_64.manylinux2014_x86_64.whl (144 kB)\n",
            "\u001b[K     |████████████████████████████████| 144 kB 54.6 MB/s \n",
            "\u001b[?25hRequirement already satisfied: zipp>=0.5 in /usr/local/lib/python3.7/dist-packages (from importlib-metadata->datasets) (3.8.0)\n",
            "Requirement already satisfied: pytz>=2017.3 in /usr/local/lib/python3.7/dist-packages (from pandas->datasets) (2022.1)\n",
            "Requirement already satisfied: python-dateutil>=2.7.3 in /usr/local/lib/python3.7/dist-packages (from pandas->datasets) (2.8.2)\n",
            "Requirement already satisfied: six>=1.5 in /usr/local/lib/python3.7/dist-packages (from python-dateutil>=2.7.3->pandas->datasets) (1.15.0)\n",
            "Installing collected packages: multidict, frozenlist, yarl, urllib3, asynctest, async-timeout, aiosignal, fsspec, aiohttp, xxhash, responses, datasets\n",
            "  Attempting uninstall: urllib3\n",
            "    Found existing installation: urllib3 1.24.3\n",
            "    Uninstalling urllib3-1.24.3:\n",
            "      Successfully uninstalled urllib3-1.24.3\n",
            "\u001b[31mERROR: pip's dependency resolver does not currently take into account all the packages that are installed. This behaviour is the source of the following dependency conflicts.\n",
            "datascience 0.10.6 requires folium==0.2.1, but you have folium 0.8.3 which is incompatible.\u001b[0m\n",
            "Successfully installed aiohttp-3.8.1 aiosignal-1.2.0 async-timeout-4.0.2 asynctest-0.13.0 datasets-2.1.0 frozenlist-1.3.0 fsspec-2022.3.0 multidict-6.0.2 responses-0.18.0 urllib3-1.25.11 xxhash-3.0.0 yarl-1.7.2\n"
          ]
        },
        {
          "output_type": "display_data",
          "data": {
            "application/vnd.colab-display-data+json": {
              "pip_warning": {
                "packages": [
                  "urllib3"
                ]
              }
            }
          },
          "metadata": {}
        },
        {
          "output_type": "stream",
          "name": "stdout",
          "text": [
            "Reading package lists... Done\n",
            "Building dependency tree       \n",
            "Reading state information... Done\n",
            "p7zip-full is already the newest version (16.02+dfsg-6).\n",
            "0 upgraded, 0 newly installed, 0 to remove and 41 not upgraded.\n",
            "/usr/bin/p7zip: cannot read train.7z\n"
          ]
        }
      ],
      "source": [
        "import nltk\n",
        "!pip install lightgbm\n",
        "import lightgbm\n",
        "nltk.download('stopwords')\n",
        "nltk.download('wordnet')\n",
        "nltk.download('punkt')\n",
        "nltk.download('averaged_perceptron_tagger')\n",
        "from nltk.stem.porter import PorterStemmer\n",
        "from nltk.stem import WordNetLemmatizer\n",
        "from nltk.corpus import wordnet\n",
        "import string\n",
        "import matplotlib.pyplot as plt\n",
        "from sklearn.decomposition import PCA\n",
        "import numpy as np\n",
        "from sklearn.preprocessing import LabelEncoder, StandardScaler\n",
        "from sklearn.feature_extraction.text import TfidfVectorizer\n",
        "from sklearn.metrics import f1_score, accuracy_score, confusion_matrix, roc_auc_score\n",
        "from sklearn.tree import DecisionTreeClassifier\n",
        "from sklearn.naive_bayes import MultinomialNB, GaussianNB\n",
        "from imblearn.under_sampling import RandomUnderSampler\n",
        "from imblearn.over_sampling import RandomOverSampler\n",
        "from sklearn.linear_model import LogisticRegression\n",
        "import gensim\n",
        "from gensim.models import Word2Vec, FastText\n",
        "from sklearn.neural_network import MLPClassifier\n",
        "from sklearn.neighbors import KNeighborsClassifier\n",
        "!pip install --upgrade gensim\n",
        "!pip install transformers\n",
        "!pip install datasets \n",
        "!apt-get install p7zip-full\n",
        "!p7zip -d train.7z\n",
        "from transformers import AutoTokenizer, AutoModel\n",
        "from datasets import load_dataset, load_metric\n",
        "from transformers import AutoModelForSequenceClassification, TrainingArguments, Trainer"
      ]
    },
    {
      "cell_type": "markdown",
      "source": [
        "# Load data"
      ],
      "metadata": {
        "id": "wXXx_nljvxyE"
      }
    },
    {
      "cell_type": "code",
      "source": [
        "linesTrain = []\n",
        "labelsTrain = []\n",
        "linesTest = []\n",
        "labelsTest = []\n",
        "path = ''\n",
        "with open(path+\"train.txt\") as file_in:\n",
        "    for line in file_in:\n",
        "        strippedLine = line.strip()\n",
        "        if strippedLine != '' and strippedLine[:3] != '###':\n",
        "            i = 0\n",
        "            while strippedLine[i] != '\\t':\n",
        "                i+=1\n",
        "            labelsTrain.append(strippedLine[:i])\n",
        "            linesTrain.append(strippedLine[i+1:].lower())\n",
        "\n",
        "with open(path + \"test.txt\") as file_in:\n",
        "    for line in file_in:\n",
        "        strippedLine = line.strip()\n",
        "        if strippedLine != '' and strippedLine[:3] != '###':\n",
        "            i = 0\n",
        "            while strippedLine[i] != '\\t':\n",
        "                i+=1\n",
        "            labelsTest.append(strippedLine[:i])\n",
        "            linesTest.append(strippedLine[i+1:].lower())"
      ],
      "metadata": {
        "id": "a3h3RRbXvyvv"
      },
      "execution_count": null,
      "outputs": []
    },
    {
      "cell_type": "code",
      "source": [
        "labelEncoder = LabelEncoder()\n",
        "labels = [\"BACKGROUND\", \"CONCLUSIONS\",\"METHODS\",\"OBJECTIVE\",\"RESULTS\"] #sort by names\n",
        "labelEncoder.fit(labels)\n",
        "Ytest = labelEncoder.transform(labelsTest)\n",
        "Ytrain = labelEncoder.transform(labelsTrain)"
      ],
      "metadata": {
        "id": "Aw8Vm4_hv-NO"
      },
      "execution_count": null,
      "outputs": []
    },
    {
      "cell_type": "code",
      "source": [
        "class_names = [str(i) for i in range(5)]\n",
        "labelsNumerical, counts = np.unique(Ytrain, return_counts=True)\n",
        "\n",
        "fig, ax = plt.subplots()\n",
        "ax.set_xticks(labelsNumerical)\n",
        "ax.set_xticklabels(labels,{'fontsize':8})\n",
        "ax.set_xlabel('Classes')\n",
        "ax.bar(labelsNumerical, counts/Ytrain.shape[0], align='center')\n",
        "ax.set_ylabel(\"Proportion in training set\")\n",
        "\n",
        "labelsNumerical, counts = np.unique(Ytest, return_counts=True)\n",
        "fig, ax = plt.subplots()\n",
        "ax.set_xticks(labelsNumerical)\n",
        "ax.set_xticklabels(labels,{'fontsize':8})\n",
        "ax.set_xlabel('Classes')\n",
        "ax.bar(labelsNumerical, counts/Ytest.shape[0], align='center')\n",
        "ax.set_ylabel(\"Proportion in test set\")"
      ],
      "metadata": {
        "id": "xI2bAZ_4v-25",
        "colab": {
          "base_uri": "https://localhost:8080/",
          "height": 557
        },
        "outputId": "fdf53363-68f1-440d-b03c-efe9ab7c5c35"
      },
      "execution_count": null,
      "outputs": [
        {
          "output_type": "execute_result",
          "data": {
            "text/plain": [
              "Text(0, 0.5, 'Proportion in test set')"
            ]
          },
          "metadata": {},
          "execution_count": 4
        },
        {
          "output_type": "display_data",
          "data": {
            "text/plain": [
              "<Figure size 432x288 with 1 Axes>"
            ],
            "image/png": "[encoded data removed]"
          },
          "metadata": {
            "needs_background": "light"
          }
        },
        {
          "output_type": "display_data",
          "data": {
            "text/plain": [
              "<Figure size 432x288 with 1 Axes>"
            ],
            "image/png": "[encoded data removed]"
          },
          "metadata": {
            "needs_background": "light"
          }
        }
      ]
    },
    {
      "cell_type": "code",
      "source": [
        "class_names = [str(i) for i in range(5)]\n",
        "labelsNumerical, counts = np.unique(Ytrain, return_counts=True)\n",
        "\n",
        "fig, ax = plt.subplots()\n",
        "ax.set_xticks(labelsNumerical)\n",
        "ax.set_xticklabels(labels,{'fontsize':8})\n",
        "ax.set_xlabel('Classes')\n",
        "ax.bar(labelsNumerical, counts, align='center')\n",
        "ax.set_ylabel(\"Original training set\")\n",
        "\n",
        "labelsNumerical, counts = np.unique(Ytest, return_counts=True)\n",
        "fig, ax = plt.subplots()\n",
        "ax.set_xticks(labelsNumerical)\n",
        "ax.set_xticklabels(labels,{'fontsize':8})\n",
        "ax.set_xlabel('Classes')\n",
        "ax.bar(labelsNumerical, counts, align='center')\n",
        "ax.set_ylabel(\"Original test set\")"
      ],
      "metadata": {
        "id": "sCTTPA-_wAma",
        "colab": {
          "base_uri": "https://localhost:8080/",
          "height": 560
        },
        "outputId": "34a2c001-4afc-4d9b-ec09-99adbefd5b6a"
      },
      "execution_count": null,
      "outputs": [
        {
          "output_type": "execute_result",
          "data": {
            "text/plain": [
              "Text(0, 0.5, 'Original test set')"
            ]
          },
          "metadata": {},
          "execution_count": 5
        },
        {
          "output_type": "display_data",
          "data": {
            "text/plain": [
              "<Figure size 432x288 with 1 Axes>"
            ],
            "image/png": "[encoded data removed]"
          },
          "metadata": {
            "needs_background": "light"
          }
        },
        {
          "output_type": "display_data",
          "data": {
            "text/plain": [
              "<Figure size 432x288 with 1 Axes>"
            ],
            "image/png": "[encoded data removed]"
          },
          "metadata": {
            "needs_background": "light"
          }
        }
      ]
    },
    {
      "cell_type": "markdown",
      "source": [
        "# Code to plot confusion matrix"
      ],
      "metadata": {
        "id": "pmAQZ3lsXTbz"
      }
    },
    {
      "cell_type": "code",
      "source": [
        "def plot_confusion_matrix(cm, classes,\n",
        "                          normalize=False,\n",
        "                          title='Confusion matrix',\n",
        "                          cmap=plt.cm.Blues):\n",
        "    \"\"\"\n",
        "    This function prints and plots the confusion matrix.\n",
        "    Normalization can be applied by setting `normalize=True`.\n",
        "    \"\"\"\n",
        "    if normalize:\n",
        "        cm = cm.astype('float') / cm.sum(axis=1)[:, np.newaxis]\n",
        "        print(\"Normalized confusion matrix\")\n",
        "    else:\n",
        "        print('Confusion matrix, without normalization')\n",
        "\n",
        "    print(cm)\n",
        "\n",
        "    fig, ax = plt.subplots()\n",
        "    im = ax.imshow(cm, interpolation='nearest', cmap=cmap)\n",
        "    ax.figure.colorbar(im, ax=ax)\n",
        "    \n",
        "    ax.set(xticks=np.arange(cm.shape[1]),\n",
        "           yticks=np.arange(cm.shape[0]), \n",
        "           xticklabels=classes, yticklabels=classes,\n",
        "           title=title,\n",
        "           ylabel='True label',\n",
        "           xlabel='Predicted label')\n",
        "    \n",
        "    # Rotate the tick labels and set their alignment.\n",
        "    plt.setp(ax.get_xticklabels(), rotation=45, ha=\"right\",\n",
        "            rotation_mode=\"anchor\")\n",
        "  \n",
        "\n",
        "    # Loop over data dimensions and create text annotations.\n",
        "    fmt = '.2f' if normalize else 'd'\n",
        "    thresh = cm.max() / 2.\n",
        "    for i in range(cm.shape[0]):\n",
        "        for j in range(cm.shape[1]):\n",
        "            ax.text(j, i, format(cm[i, j], fmt),\n",
        "                    ha=\"center\", va=\"center\",\n",
        "                    color=\"white\" if cm[i, j] > thresh else \"black\")\n",
        "    fig.tight_layout()\n",
        "    return ax"
      ],
      "metadata": {
        "id": "4HaGlqANXVX8"
      },
      "execution_count": null,
      "outputs": []
    },
    {
      "cell_type": "markdown",
      "source": [
        "# Task 1"
      ],
      "metadata": {
        "id": "hIbRSV8wwR55"
      }
    },
    {
      "cell_type": "markdown",
      "source": [
        "## Preprocessing"
      ],
      "metadata": {
        "id": "M3oNWEFbwbGd"
      }
    },
    {
      "cell_type": "markdown",
      "source": [
        "The sentences are already in lower case."
      ],
      "metadata": {
        "id": "YxflKgOwwdDw"
      }
    },
    {
      "cell_type": "markdown",
      "source": [
        "### Remove punctuation and digits"
      ],
      "metadata": {
        "id": "JJTl_pakwhHq"
      }
    },
    {
      "cell_type": "code",
      "source": [
        "print(string.punctuation)"
      ],
      "metadata": {
        "id": "LzHFboepwVqF",
        "colab": {
          "base_uri": "https://localhost:8080/"
        },
        "outputId": "b28e1487-66bf-4005-bf21-00b7a7a7541a"
      },
      "execution_count": null,
      "outputs": [
        {
          "output_type": "stream",
          "name": "stdout",
          "text": [
            "!\"#$%&'()*+,-./:;<=>?@[\\]^_`{|}~\n"
          ]
        }
      ]
    },
    {
      "cell_type": "code",
      "source": [
        "#removing the punctuation char by char will let empty strings that we will have to remove in the arrays\n",
        "for i in range(len(linesTest)):\n",
        "  linesTest[i] = \"\".join(char for char in linesTest[i] if char not in string.punctuation and not char.isdigit())\n",
        "\n",
        "for i in range(len(linesTrain)):\n",
        "  linesTrain[i] = \"\".join(char for char in linesTrain[i] if char not in string.punctuation and not char.isdigit())"
      ],
      "metadata": {
        "id": "nb2hdYywwlDn"
      },
      "execution_count": null,
      "outputs": []
    },
    {
      "cell_type": "code",
      "source": [
        "print(linesTest[0])\n",
        "print(linesTrain[0])"
      ],
      "metadata": {
        "id": "DhKm6nAKwoXl"
      },
      "execution_count": null,
      "outputs": []
    },
    {
      "cell_type": "markdown",
      "source": [
        "### Split to array"
      ],
      "metadata": {
        "id": "B7AhFgRLwqJW"
      }
    },
    {
      "cell_type": "code",
      "source": [
        "trainSentences = []\n",
        "testSentences = []\n",
        "\n",
        "for i in range(len(labelsTest)):\n",
        "    testSentences.append(linesTest[i].split(' '))\n",
        "\n",
        "for i in range(len(labelsTrain)):\n",
        "    trainSentences.append(linesTrain[i].split(' '))"
      ],
      "metadata": {
        "id": "R9adsPjTwrLY"
      },
      "execution_count": null,
      "outputs": []
    },
    {
      "cell_type": "code",
      "source": [
        "print(trainSentences[0])\n",
        "print(testSentences[0])\n",
        "print(len(testSentences),len(trainSentences))"
      ],
      "metadata": {
        "id": "wIWWbIUSws8n"
      },
      "execution_count": null,
      "outputs": []
    },
    {
      "cell_type": "markdown",
      "source": [
        "### Remove stop-words and spaces "
      ],
      "metadata": {
        "id": "nNWVtd16wv79"
      }
    },
    {
      "cell_type": "markdown",
      "source": [
        "#### Without stemming or lemmatisation"
      ],
      "metadata": {
        "id": "u4YAqGPbw57Y"
      }
    },
    {
      "cell_type": "code",
      "source": [
        "for i in range(len(testSentences)):\n",
        "  testSentences[i] = [word for word in testSentences[i] if word not in nltk.corpus.stopwords.words('english') and word!='']\n",
        "np.save('testSentences.npy',testSentences)"
      ],
      "metadata": {
        "id": "BEnF8RzdwxzG"
      },
      "execution_count": null,
      "outputs": []
    },
    {
      "cell_type": "code",
      "source": [
        "for i in range(len(trainSentences)):\n",
        "  trainSentences[i] = [word for word in trainSentences[i] if word not in nltk.corpus.stopwords.words('english') and word!='']\n",
        "np.save('trainSentences.npy',trainSentences)"
      ],
      "metadata": {
        "id": "Lq46pVq5w0lc"
      },
      "execution_count": null,
      "outputs": []
    },
    {
      "cell_type": "markdown",
      "source": [
        "#### With stemming"
      ],
      "metadata": {
        "id": "GU9xjjJFw7Sx"
      }
    },
    {
      "cell_type": "code",
      "source": [
        "stemmer = PorterStemmer()\n",
        "for i in range(len(testSentences)):\n",
        "  testSentences[i] = [stemmer.stem(word) for word in testSentences[i] if word not in nltk.corpus.stopwords.words('english') and word!='']\n",
        "np.save('testSentencesStem.npy',testSentences)"
      ],
      "metadata": {
        "id": "1gGhqk0dw-E5"
      },
      "execution_count": null,
      "outputs": []
    },
    {
      "cell_type": "code",
      "source": [
        "stemmer = PorterStemmer()\n",
        "for i in range(len(trainSentences)):\n",
        "  trainSentences[i] = [stemmer.stem(word) for word in trainSentences[i] if word not in nltk.corpus.stopwords.words('english') and word!='']\n",
        "np.save('trainSentencesStem.npy',trainSentences)"
      ],
      "metadata": {
        "id": "-Gt_gqGXxHdf"
      },
      "execution_count": null,
      "outputs": []
    },
    {
      "cell_type": "markdown",
      "source": [
        "#### With lemmatisation (with pos tag associated to each word)"
      ],
      "metadata": {
        "id": "KVpsZuDvw-cE"
      }
    },
    {
      "cell_type": "code",
      "source": [
        "def get_wordnet_pos(treebank_tag):\n",
        "\n",
        "    if treebank_tag.startswith('J'):\n",
        "        return wordnet.ADJ\n",
        "    elif treebank_tag.startswith('V'):\n",
        "        return wordnet.VERB\n",
        "    elif treebank_tag.startswith('N'):\n",
        "        return wordnet.NOUN\n",
        "    elif treebank_tag.startswith('R'):\n",
        "        return wordnet.ADV\n",
        "    else:\n",
        "        return None"
      ],
      "metadata": {
        "id": "BWbmh-RwxFqe"
      },
      "execution_count": null,
      "outputs": []
    },
    {
      "cell_type": "code",
      "source": [
        "lemmatizer = WordNetLemmatizer()\n",
        "for i in range(len(testSentences)):\n",
        "  newSentence = []\n",
        "  for word in testSentences[i]:\n",
        "    if word not in nltk.corpus.stopwords.words('english') and word!='':\n",
        "      wordAndTag = nltk.pos_tag(nltk.word_tokenize(word))\n",
        "\n",
        "      for word, tag in wordAndTag:\n",
        "        tag = get_wordnet_pos(tag)\n",
        "        if tag is None:\n",
        "          newWord = lemmatizer.lemmatize(word)\n",
        "        else:\n",
        "          newWord = lemmatizer.lemmatize(word, pos=tag) \n",
        "        newSentence.append(newWord)\n",
        "\n",
        "  testSentences[i] = newSentence\n",
        "  \n",
        "np.save('testSentencesLem.npy',testSentences)"
      ],
      "metadata": {
        "id": "MXPS1CFWxL1d"
      },
      "execution_count": null,
      "outputs": []
    },
    {
      "cell_type": "code",
      "source": [
        "lemmatizer = WordNetLemmatizer()\n",
        "for i in range(len(trainSentences)):\n",
        "  newSentence = []\n",
        "  for word in trainSentences[i]:\n",
        "    if word not in nltk.corpus.stopwords.words('english') and word!='':\n",
        "      wordAndTag = nltk.pos_tag(nltk.word_tokenize(word))\n",
        "\n",
        "      for word, tag in wordAndTag:\n",
        "        tag = get_wordnet_pos(tag)\n",
        "        if tag is None:\n",
        "          newWord = lemmatizer.lemmatize(word)\n",
        "        else:\n",
        "          newWord = lemmatizer.lemmatize(word, pos=tag) \n",
        "        newSentence.append(newWord)\n",
        "\n",
        "  trainSentences[i] = newSentence\n",
        "  \n",
        "np.save('trainSentencesLem.npy',trainSentences)"
      ],
      "metadata": {
        "id": "_KDC1FJxxSXp"
      },
      "execution_count": null,
      "outputs": []
    },
    {
      "cell_type": "markdown",
      "source": [
        "## Load already Preprocessed data"
      ],
      "metadata": {
        "id": "jkPmdZDXxWXl"
      }
    },
    {
      "cell_type": "code",
      "source": [
        "loadSentence = \"\" #load sentences without stemming nor lemmatisation"
      ],
      "metadata": {
        "id": "-gTnnAe7UpMB"
      },
      "execution_count": null,
      "outputs": []
    },
    {
      "cell_type": "code",
      "source": [
        "if loadSentence == \"stem\":\n",
        "  testSentences = np.load('testSentencesStem.npy',allow_pickle='TRUE')\n",
        "elif loadSentence == \"lemmatize\":\n",
        "  testSentences = np.load('testSentencesLem.npy',allow_pickle='TRUE')\n",
        "else:\n",
        "  testSentences = np.load('testSentences.npy',allow_pickle='TRUE')\n",
        "print(testSentences[0])"
      ],
      "metadata": {
        "id": "PrSsI58HxY5q",
        "colab": {
          "base_uri": "https://localhost:8080/"
        },
        "outputId": "884aae28-c04c-41f7-ee59-6ef18eb4e175"
      },
      "execution_count": null,
      "outputs": [
        {
          "output_type": "stream",
          "name": "stdout",
          "text": [
            "['many', 'pathogenic', 'processes', 'diseases', 'result', 'erroneous', 'activation', 'complement', 'cascade', 'number', 'inhibitors', 'complement', 'thus', 'examined', 'antiinflammatory', 'actions']\n"
          ]
        }
      ]
    },
    {
      "cell_type": "code",
      "source": [
        "if loadSentence == \"stem\":\n",
        "  trainSentences = np.load('trainSentencesStem.npy',allow_pickle='TRUE')\n",
        "elif loadSentence == \"lemmatize\":\n",
        "  trainSentences = np.load('trainSentencesLem.npy',allow_pickle='TRUE')\n",
        "else:\n",
        "  trainSentences = np.load('trainSentences.npy',allow_pickle='TRUE')\n",
        "print(trainSentences[0])"
      ],
      "metadata": {
        "colab": {
          "base_uri": "https://localhost:8080/"
        },
        "id": "CjWplhR2UocI",
        "outputId": "e548d04c-4dd1-45bc-a7a2-e1e06148e879"
      },
      "execution_count": null,
      "outputs": [
        {
          "output_type": "stream",
          "name": "stdout",
          "text": [
            "['emergence', 'hiv', 'chronic', 'condition', 'means', 'people', 'living', 'hiv', 'required', 'take', 'responsibility', 'selfmanagement', 'condition', 'including', 'making', 'physical', 'emotional', 'social', 'adjustments']\n"
          ]
        }
      ]
    },
    {
      "cell_type": "code",
      "source": [
        "print(len(testSentences),len(trainSentences))"
      ],
      "metadata": {
        "colab": {
          "base_uri": "https://localhost:8080/"
        },
        "id": "K6D3JH3eUucc",
        "outputId": "5c3455c2-f020-4c9e-bf1a-4efeae1f9e48"
      },
      "execution_count": null,
      "outputs": [
        {
          "output_type": "stream",
          "name": "stdout",
          "text": [
            "29493 2211861\n"
          ]
        }
      ]
    },
    {
      "cell_type": "markdown",
      "source": [
        "## TF-IDF Embedding"
      ],
      "metadata": {
        "id": "3Hu85FlyUv8Y"
      }
    },
    {
      "cell_type": "code",
      "source": [
        "def returnSentencesArray(preprocessedArray):\n",
        "  return preprocessedArray"
      ],
      "metadata": {
        "id": "IrLelTHBUxcm"
      },
      "execution_count": null,
      "outputs": []
    },
    {
      "cell_type": "code",
      "source": [
        "max_features = 1000\n",
        "#vectorizer = TfidfVectorizer(max_features=max_features,analyzer='word',tokenizer=returnSentencesArray,preprocessor=returnSentencesArray,token_pattern=None)\n",
        "\n",
        "#for MultinomialNB, min_df = 8\n",
        "min_df = 8\n",
        "max_df = 1.0\n",
        "vectorizer = TfidfVectorizer(min_df = min_df, max_df = max_df, analyzer='word',tokenizer=returnSentencesArray,preprocessor=returnSentencesArray,token_pattern=None)\n",
        "\n",
        "#for logistic regression, the best is to take all features\n",
        "#vectorizer = TfidfVectorizer(analyzer='word',tokenizer=returnSentencesArray,preprocessor=returnSentencesArray,token_pattern=None)\n",
        "\n",
        "vectorizer.fit(trainSentences)\n",
        "Xtrain = vectorizer.transform(trainSentences)\n",
        "Xtest = vectorizer.transform(testSentences)\n",
        "print(Xtest.shape,Xtrain.shape)"
      ],
      "metadata": {
        "colab": {
          "base_uri": "https://localhost:8080/"
        },
        "id": "K-vAGnP6VWlN",
        "outputId": "a19d342c-2e30-4951-a8f2-6f7a44b87862"
      },
      "execution_count": null,
      "outputs": [
        {
          "output_type": "stream",
          "name": "stdout",
          "text": [
            "(29493, 58737) (2211861, 58737)\n"
          ]
        }
      ]
    },
    {
      "cell_type": "markdown",
      "source": [
        "## Downsampling and upsampling"
      ],
      "metadata": {
        "id": "qI5pO0fQVz8M"
      }
    },
    {
      "cell_type": "code",
      "source": [
        "Xtraind, Ytraind = RandomUnderSampler().fit_resample(Xtrain, Ytrain)\n",
        "Xtestd, Ytestd = RandomUnderSampler().fit_resample(Xtest, Ytest)\n",
        "\n",
        "class_names = [str(i) for i in range(5)]\n",
        "labelsNumerical, counts = np.unique(Ytraind, return_counts=True)\n",
        "\n",
        "fig, ax = plt.subplots()\n",
        "ax.set_xticks(labelsNumerical)\n",
        "ax.set_xticklabels(labels,{'fontsize':8})\n",
        "ax.set_xlabel('Classes')\n",
        "ax.bar(labelsNumerical, counts, align='center')\n",
        "ax.set_ylabel(\"Downsampled training set\")"
      ],
      "metadata": {
        "colab": {
          "base_uri": "https://localhost:8080/",
          "height": 296
        },
        "id": "I2tvm9-BV1h-",
        "outputId": "6d2060f1-e9e1-41e5-f824-e82b0d3dd353"
      },
      "execution_count": null,
      "outputs": [
        {
          "output_type": "execute_result",
          "data": {
            "text/plain": [
              "Text(0, 0.5, 'Downsampled training set')"
            ]
          },
          "metadata": {},
          "execution_count": 18
        },
        {
          "output_type": "display_data",
          "data": {
            "text/plain": [
              "<Figure size 432x288 with 1 Axes>"
            ],
            "image/png": "[encoded data removed]"
          },
          "metadata": {
            "needs_background": "light"
          }
        }
      ]
    },
    {
      "cell_type": "code",
      "source": [
        "Xtrainu, Ytrainu = RandomOverSampler().fit_resample(Xtrain, Ytrain)\n",
        "Xtestu, Ytestu = RandomOverSampler().fit_resample(Xtest, Ytest)\n",
        "\n",
        "class_names = [str(i) for i in range(5)]\n",
        "labelsNumerical, counts = np.unique(Ytrainu, return_counts=True)\n",
        "\n",
        "fig, ax = plt.subplots()\n",
        "ax.set_xticks(labelsNumerical)\n",
        "ax.set_xticklabels(labels,{'fontsize':8})\n",
        "ax.set_xlabel('Classes')\n",
        "ax.bar(labelsNumerical, counts, align='center')\n",
        "ax.set_ylabel(\"Proportion in training set\")"
      ],
      "metadata": {
        "colab": {
          "base_uri": "https://localhost:8080/",
          "height": 299
        },
        "id": "zKtbH8xWV29G",
        "outputId": "89b9d95b-df38-4322-cbf2-5af063ab723a"
      },
      "execution_count": null,
      "outputs": [
        {
          "output_type": "execute_result",
          "data": {
            "text/plain": [
              "Text(0, 0.5, 'Proportion in training set')"
            ]
          },
          "metadata": {},
          "execution_count": 19
        },
        {
          "output_type": "display_data",
          "data": {
            "text/plain": [
              "<Figure size 432x288 with 1 Axes>"
            ],
            "image/png": "[encoded data removed]"
          },
          "metadata": {
            "needs_background": "light"
          }
        }
      ]
    },
    {
      "cell_type": "markdown",
      "source": [
        "## Training on imbalanced and balanced datasets with MultinomialNB"
      ],
      "metadata": {
        "id": "rLRYg_SWV4en"
      }
    },
    {
      "cell_type": "code",
      "source": [
        "print(Xtrain.shape,Ytrain.shape)\n",
        "print(Xtrainu.shape,Ytrainu.shape)\n",
        "print(Xtraind.shape,Ytraind.shape)"
      ],
      "metadata": {
        "colab": {
          "base_uri": "https://localhost:8080/"
        },
        "id": "AePe0_7lWjjb",
        "outputId": "f1524108-d316-4bb0-b0a0-e76680276908"
      },
      "execution_count": null,
      "outputs": [
        {
          "output_type": "stream",
          "name": "stdout",
          "text": [
            "(2211861, 58737) (2211861,)\n",
            "(3831355, 58737) (3831355,)\n",
            "(933005, 58737) (933005,)\n"
          ]
        }
      ]
    },
    {
      "cell_type": "code",
      "source": [
        "# See influence of having a balanced training and testing set\n",
        "classifier = MultinomialNB() \n",
        "strategies = [\"upsampling\", \"downsampling\", \"none\"]\n",
        "\n",
        "for strategy in strategies:\n",
        "  if strategy == \"upsampling\":\n",
        "    print(\"upsampling\")\n",
        "    classifier.fit(Xtrainu,Ytrainu)\n",
        "\n",
        "  elif strategy == \"downsampling\":\n",
        "    print(\"downsampling\")\n",
        "    classifier.fit(Xtraind,Ytraind)\n",
        "\n",
        "  else:\n",
        "    print(\"none\")\n",
        "    classifier.fit(Xtrain,Ytrain)\n",
        "\n",
        "  model = classifier\n",
        "  pred_test = model.predict(Xtest)\n",
        "  pred_testu = model.predict(Xtestu)\n",
        "  pred_testd = model.predict(Xtestd)\n",
        "\n",
        "  print(\"original test set\")\n",
        "  f1 = f1_score(Ytest, pred_test, average=\"weighted\")\n",
        "  print(\"Test f1 score : %s \"% f1)\n",
        "\n",
        "  acc = accuracy_score(Ytest, pred_test)\n",
        "  print(\"Test accuracy score : %s \\n\"% acc)\n",
        "\n",
        "  print(\"upsampled test set\")\n",
        "  f1 = f1_score(Ytestu, pred_testu, average=\"weighted\")\n",
        "  print(\"Test f1 score : %s \"% f1)\n",
        "\n",
        "  acc = accuracy_score(Ytestu, pred_testu)\n",
        "  print(\"Test accuracy score : %s \\n\"% acc)\n",
        "\n",
        "  print(\"downsampled test set\")\n",
        "  f1 = f1_score(Ytestd, pred_testd, average=\"weighted\")\n",
        "  print(\"Test f1 score : %s \"% f1)\n",
        "\n",
        "  acc = accuracy_score(Ytestd, pred_testd)\n",
        "  print(\"Test accuracy score : %s \\n\"% acc)\n",
        "\n",
        "  if strategy == \"upsampling\":\n",
        "    print(\"upsampling\")\n",
        "    pred_train = model.predict(Xtrainu)\n",
        "\n",
        "    f1 = f1_score(Ytrainu, pred_train, average=\"weighted\")\n",
        "    print(\"Train f1 score : %s \"% f1)\n",
        "\n",
        "    acc = accuracy_score(Ytrainu, pred_train)\n",
        "    print(\"Train accuracy score : %s \\n\"% acc)\n",
        "\n",
        "\n",
        "  elif strategy == \"downsampling\":\n",
        "    print(\"downsampling\")\n",
        "    pred_train = model.predict(Xtraind)\n",
        "\n",
        "    f1 = f1_score(Ytraind, pred_train, average=\"weighted\")\n",
        "    print(\"Train f1 score : %s \"% f1)\n",
        "\n",
        "    acc = accuracy_score(Ytraind, pred_train)\n",
        "    print(\"Train accuracy score : %s \\n\"% acc)\n",
        "\n",
        "  else:\n",
        "    print(\"none\")\n",
        "    pred_train = model.predict(Xtrain)\n",
        "\n",
        "    f1 = f1_score(Ytrain, pred_train, average=\"weighted\")\n",
        "    print(\"Train f1 score : %s \"% f1)\n",
        "\n",
        "    acc = accuracy_score(Ytrain, pred_train)\n",
        "    print(\"Train accuracy score : %s \\n\"% acc)"
      ],
      "metadata": {
        "colab": {
          "base_uri": "https://localhost:8080/"
        },
        "id": "mBx78ndmWJMo",
        "outputId": "b73eab2b-1268-45b0-d4d1-4439c6981f3a"
      },
      "execution_count": null,
      "outputs": [
        {
          "output_type": "stream",
          "name": "stdout",
          "text": [
            "upsampling\n",
            "original test set\n",
            "Test f1 score : 0.7327158750848654 \n",
            "Test accuracy score : 0.7258332485674567 \n",
            "\n",
            "upsampled test set\n",
            "Test f1 score : 0.6809879607230871 \n",
            "Test accuracy score : 0.6814324639937719 \n",
            "\n",
            "downsampled test set\n",
            "Test f1 score : 0.684621293907842 \n",
            "Test accuracy score : 0.6848969289019773 \n",
            "\n",
            "upsampling\n",
            "Train f1 score : 0.7047131407156367 \n",
            "Train accuracy score : 0.7045282935149575 \n",
            "\n",
            "downsampling\n",
            "original test set\n",
            "Test f1 score : 0.7342237220153778 \n",
            "Test accuracy score : 0.7274946597497711 \n",
            "\n",
            "upsampled test set\n",
            "Test f1 score : 0.6853828411245192 \n",
            "Test accuracy score : 0.6857532113662904 \n",
            "\n",
            "downsampled test set\n",
            "Test f1 score : 0.6886649275084689 \n",
            "Test accuracy score : 0.6889356331510307 \n",
            "\n",
            "downsampling\n",
            "Train f1 score : 0.7067865407530513 \n",
            "Train accuracy score : 0.7067282597628094 \n",
            "\n",
            "none\n",
            "original test set\n",
            "Test f1 score : 0.7361798901900316 \n",
            "Test accuracy score : 0.7449225239887431 \n",
            "\n",
            "upsampled test set\n",
            "Test f1 score : 0.6249737497403715 \n",
            "Test accuracy score : 0.6385558583106267 \n",
            "\n",
            "downsampled test set\n",
            "Test f1 score : 0.6270898155571483 \n",
            "Test accuracy score : 0.640891880521666 \n",
            "\n",
            "none\n",
            "Train f1 score : 0.7421453539620375 \n",
            "Train accuracy score : 0.7503016690470151 \n",
            "\n"
          ]
        }
      ]
    },
    {
      "cell_type": "code",
      "source": [
        "#train on original data set but test on balanced dataset\n",
        "classifier = MultinomialNB()\n",
        "classifier.fit(Xtrain,Ytrain)\n",
        "pred_testd = classifier.predict(Xtestd)\n",
        "\n",
        "f1 = f1_score(Ytestd, pred_testd, average=\"weighted\")\n",
        "print(\"Test f1 score : %s \"% f1)\n",
        "\n",
        "acc = accuracy_score(Ytestd, pred_testd)\n",
        "print(\"Test accuracy score : %s \\n\"% acc)\n",
        "\n",
        "cnf_matrix = confusion_matrix(Ytestd, pred_testd)\n",
        "class_names = [str(i) for i in range(5)]\n",
        "\n",
        "plt.figure()\n",
        "plot_confusion_matrix(cnf_matrix, classes=class_names, normalize=True)\n",
        "plt.show()"
      ],
      "metadata": {
        "colab": {
          "base_uri": "https://localhost:8080/",
          "height": 563
        },
        "id": "GofZahK7XLN-",
        "outputId": "96cb17cc-7d0e-43de-85f1-6db5ca864d5c"
      },
      "execution_count": null,
      "outputs": [
        {
          "output_type": "stream",
          "name": "stdout",
          "text": [
            "Test f1 score : 0.6270898155571483 \n",
            "Test accuracy score : 0.640891880521666 \n",
            "\n",
            "Normalized confusion matrix\n",
            "[[4.16912074e-01 2.50736222e-01 1.35464872e-01 1.23264619e-01\n",
            "  7.36222129e-02]\n",
            " [6.64703408e-02 6.33992427e-01 6.18426588e-02 1.09381573e-02\n",
            "  2.26756416e-01]\n",
            " [6.73117375e-03 1.30416491e-02 8.60328145e-01 6.31047539e-03\n",
            "  1.13588557e-01]\n",
            " [1.48927219e-01 1.36726967e-01 2.21287337e-01 4.45519562e-01\n",
            "  4.75389146e-02]\n",
            " [3.36558687e-03 3.57593605e-02 1.12747160e-01 4.20698359e-04\n",
            "  8.47707194e-01]]\n"
          ]
        },
        {
          "output_type": "display_data",
          "data": {
            "text/plain": [
              "<Figure size 432x288 with 0 Axes>"
            ]
          },
          "metadata": {}
        },
        {
          "output_type": "display_data",
          "data": {
            "text/plain": [
              "<Figure size 432x288 with 2 Axes>"
            ],
            "image/png": "[encoded data removed]"
          },
          "metadata": {
            "needs_background": "light"
          }
        }
      ]
    },
    {
      "cell_type": "code",
      "source": [
        "#train on balanced dataset and test on balanced dataset\n",
        "classifier = MultinomialNB()\n",
        "classifier.fit(Xtraind,Ytraind)\n",
        "pred_testd = classifier.predict(Xtestd)\n",
        "\n",
        "f1 = f1_score(Ytestd, pred_testd, average=\"weighted\")\n",
        "print(\"Test f1 score : %s \"% f1)\n",
        "\n",
        "acc = accuracy_score(Ytestd, pred_testd)\n",
        "print(\"Test accuracy score : %s \\n\"% acc)\n",
        "\n",
        "cnf_matrix = confusion_matrix(Ytestd, pred_testd)\n",
        "class_names = [str(i) for i in range(5)]\n",
        "\n",
        "plt.figure()\n",
        "plot_confusion_matrix(cnf_matrix, classes=class_names, normalize=True)\n",
        "plt.show()"
      ],
      "metadata": {
        "colab": {
          "base_uri": "https://localhost:8080/",
          "height": 474
        },
        "id": "oUWuHnmtXNXF",
        "outputId": "5255fec1-0c5a-468e-9486-5361cc42e8fc"
      },
      "execution_count": null,
      "outputs": [
        {
          "output_type": "stream",
          "name": "stdout",
          "text": [
            "Test f1 score : 0.6886649275084689 \n",
            "Test accuracy score : 0.6889356331510307 \n",
            "\n",
            "Normalized confusion matrix\n",
            "[[0.59612958 0.12116113 0.04753891 0.21708035 0.01809003]\n",
            " [0.1531342  0.63273033 0.02692469 0.0778292  0.10938157]\n",
            " [0.03575936 0.02902819 0.79175431 0.05384939 0.08960875]\n",
            " [0.21161127 0.06310475 0.06226336 0.65082036 0.01220025]\n",
            " [0.02397981 0.08287758 0.1034918  0.01640724 0.77324358]]\n"
          ]
        },
        {
          "output_type": "display_data",
          "data": {
            "text/plain": [
              "<Figure size 432x288 with 0 Axes>"
            ]
          },
          "metadata": {}
        },
        {
          "output_type": "display_data",
          "data": {
            "text/plain": [
              "<Figure size 432x288 with 2 Axes>"
            ],
            "image/png": "[encoded data removed]"
          },
          "metadata": {
            "needs_background": "light"
          }
        }
      ]
    },
    {
      "cell_type": "markdown",
      "source": [
        "## Choose best min_df of TF-IDF"
      ],
      "metadata": {
        "id": "NNx6tapzWolq"
      }
    },
    {
      "cell_type": "code",
      "source": [
        "f1_scores = []\n",
        "acc_scores = []\n",
        "number_words = []\n",
        "min_dfs = [i for i in range(1,20)]\n",
        "print(min_dfs)\n",
        "for i in range(len(min_dfs)):\n",
        "  min_df = min_dfs[i]\n",
        "  vectorizer = TfidfVectorizer(min_df = min_df, analyzer='word',tokenizer=returnSentencesArray,preprocessor=returnSentencesArray,token_pattern=None)\n",
        "  vectorizer.fit(trainSentences)\n",
        "  Xtrain = vectorizer.transform(trainSentences)\n",
        "  Xtest = vectorizer.transform(testSentences)\n",
        "  print(Xtest.shape,Xtrain.shape)\n",
        "  model = MultinomialNB()\n",
        "  #model = LogisticRegression(solver = \"saga\")\n",
        "  model.fit(Xtrain,Ytrain)\n",
        "  pred_train = model.predict(Xtrain)\n",
        "  f1 = f1_score(Ytrain, pred_train, average=\"weighted\")\n",
        "  f1_scores.append(f1)  \n",
        "  acc = accuracy_score(Ytrain, pred_train)\n",
        "  acc_scores.append(acc)\n",
        "  number_words.append(Xtrain.shape[1])"
      ],
      "metadata": {
        "colab": {
          "base_uri": "https://localhost:8080/"
        },
        "id": "zRFVSAVWWsGS",
        "outputId": "ea9e0804-2d8c-4ac2-ac43-f535ce204a7f"
      },
      "execution_count": null,
      "outputs": [
        {
          "output_type": "stream",
          "name": "stdout",
          "text": [
            "[1, 2, 3, 4, 5, 6, 7, 8, 9]\n",
            "(29493, 247820) (2211861, 247820)\n",
            "(29493, 146442) (2211861, 146442)\n",
            "(29493, 112975) (2211861, 112975)\n",
            "(29493, 93361) (2211861, 93361)\n",
            "(29493, 80251) (2211861, 80251)\n",
            "(29493, 71006) (2211861, 71006)\n",
            "(29493, 64023) (2211861, 64023)\n",
            "(29493, 58737) (2211861, 58737)\n",
            "(29493, 54555) (2211861, 54555)\n"
          ]
        }
      ]
    },
    {
      "cell_type": "code",
      "source": [
        "plt.figure()\n",
        "plt.plot(min_dfs,f1_scores)\n",
        "plt.figure()\n",
        "plt.plot(number_words,f1_scores)\n",
        "plt.figure()\n",
        "plt.plot(min_dfs,acc_scores)"
      ],
      "metadata": {
        "colab": {
          "base_uri": "https://localhost:8080/",
          "height": 779
        },
        "id": "clTqH6oiWzaS",
        "outputId": "3227c7ae-1ead-4489-a93d-5cece8f3d6b7"
      },
      "execution_count": null,
      "outputs": [
        {
          "output_type": "execute_result",
          "data": {
            "text/plain": [
              "[<matplotlib.lines.Line2D at 0x7fae0e292490>]"
            ]
          },
          "metadata": {},
          "execution_count": 26
        },
        {
          "output_type": "display_data",
          "data": {
            "text/plain": [
              "<Figure size 432x288 with 1 Axes>"
            ],
            "image/png": "[encoded data removed]"
          },
          "metadata": {
            "needs_background": "light"
          }
        },
        {
          "output_type": "display_data",
          "data": {
            "text/plain": [
              "<Figure size 432x288 with 1 Axes>"
            ],
            "image/png": "[encoded data removed]"
          },
          "metadata": {
            "needs_background": "light"
          }
        },
        {
          "output_type": "display_data",
          "data": {
            "text/plain": [
              "<Figure size 432x288 with 1 Axes>"
            ],
            "image/png": "[encoded data removed]"
          },
          "metadata": {
            "needs_background": "light"
          }
        }
      ]
    },
    {
      "cell_type": "code",
      "source": [
        "print(\"You need min_df =\",min_dfs[np.argmax(f1_scores)])\n",
        "print(\"F1 train score with multinomialNB :\", np.max(f1_scores))\n",
        "print(\"numbers of words :\", number_words[np.argmax(f1_scores)])"
      ],
      "metadata": {
        "colab": {
          "base_uri": "https://localhost:8080/"
        },
        "id": "3pCEg7h8W0md",
        "outputId": "fa23ed74-dcc9-48dd-de8c-4039380e8d85"
      },
      "execution_count": null,
      "outputs": [
        {
          "output_type": "stream",
          "name": "stdout",
          "text": [
            "You need min_df = 8\n",
            "F1 train score with multinomialNB : 0.7421453539620375\n",
            "numbers of words : 58737\n"
          ]
        }
      ]
    },
    {
      "cell_type": "markdown",
      "source": [
        "## Best model and confusion matrix"
      ],
      "metadata": {
        "id": "R5y0mFo0W5Uo"
      }
    },
    {
      "cell_type": "code",
      "source": [
        "# classifiers = [\n",
        "#     DecisionTreeClassifier(),\n",
        "#     MultinomialNB(),\n",
        "#     lightgbm.LGBMClassifier(),\n",
        "#     LogisticRegression(solver = \"saga\"),\n",
        "# ]"
      ],
      "metadata": {
        "id": "ZaBSulopWhs1"
      },
      "execution_count": null,
      "outputs": []
    },
    {
      "cell_type": "code",
      "source": [
        "classifier = LogisticRegression(solver = \"saga\")\n",
        "classifier.fit(Xtrain,Ytrain)\n",
        "pred_test = classifier.predict(Xtest)\n",
        "\n",
        "f1 = f1_score(Ytest, pred_test, average=\"weighted\")\n",
        "print(\"Test f1 score : %s \"% f1)\n",
        "\n",
        "acc = accuracy_score(Ytest, pred_test)\n",
        "print(\"Test accuracy score : %s \\n\"% acc)"
      ],
      "metadata": {
        "colab": {
          "base_uri": "https://localhost:8080/"
        },
        "id": "JaKcRsRAW_iv",
        "outputId": "595627a2-befe-4a45-d917-829c4865f9b6"
      },
      "execution_count": null,
      "outputs": [
        {
          "output_type": "stream",
          "name": "stdout",
          "text": [
            "Test f1 score : 0.7949881650166856 \n",
            "Test accuracy score : 0.7979181500695081 \n",
            "\n"
          ]
        }
      ]
    },
    {
      "cell_type": "code",
      "source": [
        "cnf_matrix = confusion_matrix(Ytest, pred_test)\n",
        "class_names = [str(i) for i in range(5)]\n",
        "\n",
        "plt.figure()\n",
        "plot_confusion_matrix(cnf_matrix, classes=class_names, normalize=True)\n",
        "plt.show()"
      ],
      "metadata": {
        "colab": {
          "base_uri": "https://localhost:8080/",
          "height": 421
        },
        "id": "fahzaKbWW86E",
        "outputId": "89790445-e167-4738-82aa-f4f427382ab2"
      },
      "execution_count": null,
      "outputs": [
        {
          "output_type": "stream",
          "name": "stdout",
          "text": [
            "Normalized confusion matrix\n",
            "[[0.54374765 0.15659031 0.09913631 0.16184754 0.03867818]\n",
            " [0.07252598 0.71531857 0.03999096 0.01965657 0.15250791]\n",
            " [0.00799918 0.01333197 0.90134345 0.0101528  0.0671726 ]\n",
            " [0.18258309 0.08245688 0.11569205 0.59823307 0.02103492]\n",
            " [0.00515765 0.0468081  0.09838459 0.00223822 0.84741144]]\n"
          ]
        },
        {
          "output_type": "display_data",
          "data": {
            "text/plain": [
              "<Figure size 432x288 with 0 Axes>"
            ]
          },
          "metadata": {}
        },
        {
          "output_type": "display_data",
          "data": {
            "text/plain": [
              "<Figure size 432x288 with 2 Axes>"
            ],
            "image/png": "[encoded data removed]"
          },
          "metadata": {
            "needs_background": "light"
          }
        }
      ]
    },
    {
      "cell_type": "markdown",
      "source": [
        "# Task 2"
      ],
      "metadata": {
        "id": "-Ig_sbhNXvDD"
      }
    },
    {
      "cell_type": "markdown",
      "source": [
        "You need to preprocess the data first"
      ],
      "metadata": {
        "id": "oURVgyV0Z4Zn"
      }
    },
    {
      "cell_type": "markdown",
      "source": [
        "## Word2Vec models"
      ],
      "metadata": {
        "id": "hVfVOzMfX2Dh"
      }
    },
    {
      "cell_type": "code",
      "source": [
        "print(len(trainSentences),len(testSentences))"
      ],
      "metadata": {
        "colab": {
          "base_uri": "https://localhost:8080/"
        },
        "id": "K0D2piUFgUX5",
        "outputId": "31dd14c0-638f-4cba-80fa-61665478eb32"
      },
      "execution_count": null,
      "outputs": [
        {
          "output_type": "stream",
          "name": "stdout",
          "text": [
            "2211861 29493\n"
          ]
        }
      ]
    },
    {
      "cell_type": "code",
      "source": [
        "# train model\n",
        "\n",
        "#model1 = Word2Vec(trainSentences, vector_size=50, window=5, min_count=1, workers=4)\n",
        "model2 = Word2Vec(trainSentences, vector_size=100, window=5, min_count=1, workers=4)\n",
        "#model3 = Word2Vec(trainSentences, vector_size=150, window=5, min_count=1, workers=4)\n",
        "#model4 = Word2Vec(trainSentences, vector_size=200, window=5, min_count=1, workers=4)\n",
        "#model5 = Word2Vec(trainSentences, vector_size=100, window=3, min_count=1, workers=4)\n",
        "#model6 = Word2Vec(trainSentences, vector_size=300, window=5, min_count=1, workers=2)\n",
        "\n",
        "#model7 = Word2Vec(trainSentences, vector_size=300, window=5, min_count=1, workers=4)\n",
        "#modelStem = Word2Vec(trainSentencesStem, vector_size=100, window=5, min_count=1, workers=4)"
      ],
      "metadata": {
        "id": "ois5SN8eXvw8"
      },
      "execution_count": null,
      "outputs": []
    },
    {
      "cell_type": "code",
      "source": [
        "# save model\n",
        "#model1.save('model50.bin')\n",
        "#model2.save('model100.bin')\n",
        "#model3.save('model150.bin')\n",
        "#model4.save('model200.bin')\n",
        "#model5.save('model100_3.bin')\n",
        "#model6.save('model300.bin')\n",
        "#model7.save('model300.bin')\n",
        "#modelStem.save('model1_Stem.bin')"
      ],
      "metadata": {
        "id": "ohymGWcgX-iW"
      },
      "execution_count": null,
      "outputs": []
    },
    {
      "cell_type": "code",
      "source": [
        "# load model\n",
        "#modelStem = Word2Vec.load('model1_Stem.bin')\n",
        "#model1 = Word2Vec.load('model100.bin')"
      ],
      "metadata": {
        "id": "ccOVlhy6YBeg"
      },
      "execution_count": null,
      "outputs": []
    },
    {
      "cell_type": "markdown",
      "source": [
        "## FastText models"
      ],
      "metadata": {
        "id": "N86s1-1ZYKDf"
      }
    },
    {
      "cell_type": "code",
      "source": [
        "model_F1 = FastText(trainSentences, vector_size=100, window=3, min_count=1)\n",
        "#model_F2 = FastText(trainSentences, vector_size=200, window=3, min_count=1)\n",
        "#model_F3 = FastText(trainSentences, vector_size=100, window=2, min_count=1)\n",
        "#model_F4 = FastText(trainSentences, vector_size=200, window=2, min_count=1)"
      ],
      "metadata": {
        "id": "xZc2qTfzkTgC"
      },
      "execution_count": null,
      "outputs": []
    },
    {
      "cell_type": "code",
      "source": [
        "# save model\n",
        "#model_F1.save('model_F100.bin')\n",
        "#model_F2.save('model_F200.bin')\n",
        "#model_F3.save('model_F100_2.bin')\n",
        "#model_F4.save('model_F200_2.bin')\n",
        "#model_F_Stem.save('model_F_Stem.bin')"
      ],
      "metadata": {
        "id": "_RvieqhXYdDf"
      },
      "execution_count": null,
      "outputs": []
    },
    {
      "cell_type": "code",
      "source": [
        "#model_F = Word2Vec.load('model_F100.bin')\n",
        "#model_F_Stem = Word2Vec.load('model_F_Stem.bin')"
      ],
      "metadata": {
        "id": "o2Dylo-4YfSv"
      },
      "execution_count": null,
      "outputs": []
    },
    {
      "cell_type": "markdown",
      "source": [
        "## Pretrained Word2Vec"
      ],
      "metadata": {
        "id": "vihk2EqKYiCz"
      }
    },
    {
      "cell_type": "code",
      "source": [
        "vectors = gensim.models.KeyedVectors.load_word2vec_format('./GoogleNewsvectorsnegative300.bin', binary=True)"
      ],
      "metadata": {
        "id": "mGdhb99Rk1Mg"
      },
      "execution_count": null,
      "outputs": []
    },
    {
      "cell_type": "markdown",
      "source": [
        "## Sentence embedding : mean of word embeddings"
      ],
      "metadata": {
        "id": "jos8ZkwTYoQf"
      }
    },
    {
      "cell_type": "code",
      "source": [
        "# mean of word embeddings or 0 if the words don't exist in vocabulary\n",
        "def SentenceEmbedding(data, model_Word, arraysize):\n",
        "    result = np.zeros((data.shape[0],arraysize))\n",
        "    for i in range(data.shape[0]):\n",
        "      sentence = data[i]\n",
        "      for word in sentence:\n",
        "        #for testing data we don't have all the words so we leave 0\n",
        "        if word in model_Word.wv.key_to_index:\n",
        "          result[i] += model_Word.wv[word]\n",
        "      if len(sentence)>0:\n",
        "        result[i]/=len(sentence)    \n",
        "    return result"
      ],
      "metadata": {
        "id": "C9RLn3t3YoCa"
      },
      "execution_count": null,
      "outputs": []
    },
    {
      "cell_type": "code",
      "source": [
        "# different function because the pretrained dataset is an old one\n",
        "def SentenceEmbeddingPretrainedModel(data, model_Word):\n",
        "    result = np.zeros((data.shape[0],300))\n",
        "    for i in range(0,data.shape[0]):\n",
        "        sentence = data[i]\n",
        "        if len(sentence) > 0:\n",
        "            if sentence[0] in model_Word.key_to_index:\n",
        "                result[i,:] = model_Word[sentence[0]]\n",
        "            else:\n",
        "                result[i,:] = np.zeros((1,300))\n",
        "                #result[i,:] = model.wv.most_similar(positive=[sentence[0]], negative=[])\n",
        "                for j in range(1,len(sentence)):\n",
        "                    if sentence[j] in model_Word.key_to_index:\n",
        "                        result[i] = (result[i] + model_Word[sentence[j]])/2\n",
        "                    else:\n",
        "                        result[i] = (result[i] + np.zeros((1,300)))/2\n",
        "                        # result[i] = (result[i] + model.wv.most_similar(positive=[sentence[0]], negative=[]))/2\n",
        "    \n",
        "    return result"
      ],
      "metadata": {
        "id": "OzRNGSR8jDlC"
      },
      "execution_count": null,
      "outputs": []
    },
    {
      "cell_type": "code",
      "source": [
        "# trainSentencesEmb_pre = SentenceEmbedding(trainSentences, vectors)\n",
        "# testSentencesEmb_pre = SentenceEmbedding(testSentences, vectors)\n",
        "\n",
        "# trainSentencesEmbStem_pre = SentenceEmbedding(trainSentencesStem, vectors)\n",
        "# testSentencesEmbStem_pre = SentenceEmbedding(testSentencesStem, vectors)"
      ],
      "metadata": {
        "id": "LnAVTpdcjWfa"
      },
      "execution_count": null,
      "outputs": []
    },
    {
      "cell_type": "code",
      "source": [
        "trainSentencesEmb = SentenceEmbedding(trainSentences, model2, 100)\n",
        "testSentencesEmb = SentenceEmbedding(testSentences, model2, 100)"
      ],
      "metadata": {
        "id": "PiluFU36YuT8"
      },
      "execution_count": null,
      "outputs": []
    },
    {
      "cell_type": "code",
      "source": [
        "print(trainSentencesEmb.shape,testSentencesEmb.shape)"
      ],
      "metadata": {
        "colab": {
          "base_uri": "https://localhost:8080/"
        },
        "id": "4CRiUw0HmYiS",
        "outputId": "524e32f7-a094-4693-9898-7d71b6ea654e"
      },
      "execution_count": null,
      "outputs": [
        {
          "output_type": "stream",
          "name": "stdout",
          "text": [
            "(2211861, 100) (29493, 100)\n"
          ]
        }
      ]
    },
    {
      "cell_type": "code",
      "source": [
        "trainSentencesEmb_F1 = SentenceEmbedding(trainSentences, model_F1, 100)\n",
        "testSentencesEmb_F1 = SentenceEmbedding(testSentences, model_F1, 100)"
      ],
      "metadata": {
        "id": "LJaV1KRPYxVR"
      },
      "execution_count": null,
      "outputs": []
    },
    {
      "cell_type": "code",
      "source": [
        "# trainSentencesEmbStem = SentenceEmbedding(trainSentencesStem, modelStem, 100)\n",
        "# testSentencesEmbStem = SentenceEmbedding(testSentencesStem, modelStem,100)"
      ],
      "metadata": {
        "id": "B9pBT1yqYyY5"
      },
      "execution_count": null,
      "outputs": []
    },
    {
      "cell_type": "markdown",
      "source": [
        "## Training and classification"
      ],
      "metadata": {
        "id": "rxrWvMaSY6hw"
      }
    },
    {
      "cell_type": "code",
      "source": [
        "y_train = Ytrain\n",
        "y_test = Ytest"
      ],
      "metadata": {
        "id": "YEzGrKAWaB7i"
      },
      "execution_count": null,
      "outputs": []
    },
    {
      "cell_type": "code",
      "source": [
        "scaler = StandardScaler()"
      ],
      "metadata": {
        "id": "N6ZmGZJhaV_8"
      },
      "execution_count": null,
      "outputs": []
    },
    {
      "cell_type": "code",
      "source": [
        "def Scaler(train,test,scalerName):\n",
        "    X_train = scalerName.fit_transform(train)\n",
        "    X_test = scalerName.transform(test)\n",
        "    return X_train, X_test"
      ],
      "metadata": {
        "id": "dFQLp-yZY72H"
      },
      "execution_count": null,
      "outputs": []
    },
    {
      "cell_type": "code",
      "source": [
        "# X_scaled_pre =  Scaler(trainSentencesEmb_pre,testSentencesEmb_pre,scaler)\n",
        "# #X_scaledStem_pre =  Scaler(trainSentencesEmbStem_pre,testSentencesEmbStem_pre,scaler)"
      ],
      "metadata": {
        "id": "OxpRUhPPm_ME"
      },
      "execution_count": null,
      "outputs": []
    },
    {
      "cell_type": "code",
      "source": [
        "X_scaled =  Scaler(trainSentencesEmb,testSentencesEmb,scaler)\n",
        "#X_scaled_F =  Scaler(trainSentencesEmb_F1,testSentencesEmb_F1,scaler)\n",
        "#X_scaledStem =  Scaler(trainSentencesEmbStem,testSentencesEmbStem,scaler)"
      ],
      "metadata": {
        "id": "jZtZWWLoaQLH"
      },
      "execution_count": null,
      "outputs": []
    },
    {
      "cell_type": "code",
      "source": [
        "def Classifier(X_train,X_test,y_train,y_test, modelClassifier):\n",
        "    clf = modelClassifier.fit(X_train, y_train)\n",
        "    pred_prob = clf.predict_proba(X_test)\n",
        "    pred = clf.predict(X_test)\n",
        "    print('Accuracy of classifier on training set: {:.4f}'\n",
        "          .format(accuracy_score(y_test, pred)))\n",
        "    print('AUROC of classifier on test set: {:.4f}'\n",
        "             .format(roc_auc_score(y_test, pred_prob, multi_class = 'ovo')))\n",
        "    print('F1 score of classifier on test set: {:.4f}'\n",
        "             .format(f1_score(y_test, pred, average=\"macro\")))  \n",
        "    return pred"
      ],
      "metadata": {
        "id": "Af-uRsGPY9Qh"
      },
      "execution_count": null,
      "outputs": []
    },
    {
      "cell_type": "markdown",
      "source": [
        "### Neural Network"
      ],
      "metadata": {
        "id": "HaA2vZqAaq-N"
      }
    },
    {
      "cell_type": "code",
      "source": [
        "nn = MLPClassifier(hidden_layer_sizes = (50,),solver = 'adam',random_state=1, max_iter=300)\n",
        "\n",
        "pred_nn = Classifier(X_scaled[0],X_scaled[1],y_train,y_test, nn)"
      ],
      "metadata": {
        "id": "zvajMv7LatXo"
      },
      "execution_count": null,
      "outputs": []
    },
    {
      "cell_type": "markdown",
      "source": [
        "### KNN"
      ],
      "metadata": {
        "id": "gqeGGuwNawnx"
      }
    },
    {
      "cell_type": "code",
      "source": [
        "knn = KNeighborsClassifier(max_depth=7, random_state=0)\n",
        "\n",
        "pred_knn = Classifier(X_scaled[0],X_scaled[1],y_train,y_test, knn)"
      ],
      "metadata": {
        "id": "7ZLJvitsayqX"
      },
      "execution_count": null,
      "outputs": []
    },
    {
      "cell_type": "markdown",
      "source": [
        "### Multinomial NB"
      ],
      "metadata": {
        "id": "z-ief5txbFWs"
      }
    },
    {
      "cell_type": "code",
      "source": [
        "gnb = GaussianNB()\n",
        "\n",
        "# pred_gnbStem = Classifier(X_scaledStem[0],X_scaledStem[1],y_train,y_test, gnb)\n",
        "pred_gnb = Classifier(X_scaled[0],X_scaled[1],y_train,y_test, gnb)\n",
        "# pred_gnb_F = Classifier(X_scaled_F[0],X_scaled_F[1],y_train,y_test, gnb)\n",
        "\n",
        "#pred_gnbStem_F = Classifier(X_scaledStem_F[0],X_scaledStem_F[1],y_train,y_test, gnb)\n",
        "#pred_gnbStem_pre = Classifier(X_scaledStem_pre[0],X_scaledStem_pre[1],y_train,y_test, gnb)\n",
        "#pred_gnb_pre = Classifier(X_scaled_pre[0],X_scaled_pre[1],y_train,y_test, gnb)"
      ],
      "metadata": {
        "colab": {
          "base_uri": "https://localhost:8080/"
        },
        "id": "YwZAY3MRbHyP",
        "outputId": "4b708995-6453-41a0-81a0-b6cf709e8865"
      },
      "execution_count": null,
      "outputs": [
        {
          "output_type": "stream",
          "name": "stdout",
          "text": [
            "Accuracy of classifier on training set: 0.6422\n",
            "AUROC of classifier on test set: 0.8494\n",
            "F1 score of classifier on test set: 0.5619\n"
          ]
        }
      ]
    },
    {
      "cell_type": "code",
      "source": [
        "trainSentencesEmb = SentenceEmbedding(trainSentences, model1, 50)\n",
        "testSentencesEmb = SentenceEmbedding(testSentences, model1, 50)\n",
        "X_scaled =  Scaler(trainSentencesEmb,testSentencesEmb,scaler)\n",
        "\n",
        "pred_gnb = Classifier(X_scaled[0],X_scaled[1],y_train,y_test, gnb)"
      ],
      "metadata": {
        "id": "CPfc9c9zbtEY"
      },
      "execution_count": null,
      "outputs": []
    },
    {
      "cell_type": "code",
      "source": [
        "trainSentencesEmb = SentenceEmbedding(trainSentences, model2, 100)\n",
        "testSentencesEmb = SentenceEmbedding(testSentences, model2, 100)\n",
        "X_scaled =  Scaler(trainSentencesEmb,testSentencesEmb,scaler)\n",
        "\n",
        "pred_gnb = Classifier(X_scaled[0],X_scaled[1],y_train,y_test, gnb)"
      ],
      "metadata": {
        "id": "SeUsgbwXcK1E"
      },
      "execution_count": null,
      "outputs": []
    },
    {
      "cell_type": "code",
      "source": [
        "trainSentencesEmb = SentenceEmbedding(trainSentences, model3, 150)\n",
        "testSentencesEmb = SentenceEmbedding(testSentences, model3, 150)\n",
        "X_scaled =  Scaler(trainSentencesEmb,testSentencesEmb,scaler)\n",
        "\n",
        "pred_gnb = Classifier(X_scaled[0],X_scaled[1],y_train,y_test, gnb)"
      ],
      "metadata": {
        "id": "UWbvVsxqcMIS"
      },
      "execution_count": null,
      "outputs": []
    },
    {
      "cell_type": "code",
      "source": [
        "trainSentencesEmb = SentenceEmbedding(trainSentences, model4, 200)\n",
        "testSentencesEmb = SentenceEmbedding(testSentences, model4, 200)\n",
        "X_scaled =  Scaler(trainSentencesEmb,testSentencesEmb,scaler)\n",
        "\n",
        "pred_gnb = Classifier(X_scaled[0],X_scaled[1],y_train,y_test, gnb)"
      ],
      "metadata": {
        "id": "oL03zJL4cNWn"
      },
      "execution_count": null,
      "outputs": []
    },
    {
      "cell_type": "code",
      "source": [
        "trainSentencesEmb = SentenceEmbedding(trainSentences, model5, 100)\n",
        "testSentencesEmb = SentenceEmbedding(testSentences, model5, 100)\n",
        "X_scaled =  Scaler(trainSentencesEmb,testSentencesEmb,scaler)\n",
        "\n",
        "pred_gnb = Classifier(X_scaled[0],X_scaled[1],y_train,y_test, gnb)"
      ],
      "metadata": {
        "id": "jv8rtX5mcPB8"
      },
      "execution_count": null,
      "outputs": []
    },
    {
      "cell_type": "code",
      "source": [
        "trainSentencesEmb = SentenceEmbedding(trainSentences, model_F1, 100)\n",
        "testSentencesEmb = SentenceEmbedding(testSentences, model_F1, 100)\n",
        "X_scaled =  Scaler(trainSentencesEmb,testSentencesEmb,scaler)\n",
        "\n",
        "pred_gnb = Classifier(X_scaled[0],X_scaled[1],y_train,y_test, gnb)"
      ],
      "metadata": {
        "id": "PoqmNM8VcQF7"
      },
      "execution_count": null,
      "outputs": []
    },
    {
      "cell_type": "code",
      "source": [
        "trainSentencesEmb = SentenceEmbedding(trainSentences, model_F2, 200)\n",
        "testSentencesEmb = SentenceEmbedding(testSentences, model_F2, 200)\n",
        "X_scaled =  Scaler(trainSentencesEmb,testSentencesEmb,scaler)\n",
        "\n",
        "pred_gnb = Classifier(X_scaled[0],X_scaled[1],y_train,y_test, gnb)"
      ],
      "metadata": {
        "id": "D1wVMqb6cRGQ"
      },
      "execution_count": null,
      "outputs": []
    },
    {
      "cell_type": "code",
      "source": [
        "trainSentencesEmb = SentenceEmbedding(trainSentences, model_F3, 100)\n",
        "testSentencesEmb = SentenceEmbedding(testSentences, model_F3, 100)\n",
        "X_scaled =  Scaler(trainSentencesEmb,testSentencesEmb,scaler)\n",
        "\n",
        "pred_gnb = Classifier(X_scaled[0],X_scaled[1],y_train,y_test, gnb)"
      ],
      "metadata": {
        "id": "CcPrHl9OcTuy"
      },
      "execution_count": null,
      "outputs": []
    },
    {
      "cell_type": "code",
      "source": [
        "trainSentencesEmb = SentenceEmbedding(trainSentences, model_F4, 200)\n",
        "testSentencesEmb = SentenceEmbedding(testSentences, model_F4, 200)\n",
        "X_scaled =  Scaler(trainSentencesEmb,testSentencesEmb,scaler)\n",
        "\n",
        "pred_gnb = Classifier(X_scaled[0],X_scaled[1],y_train,y_test, gnb)"
      ],
      "metadata": {
        "id": "L9vGdHT8cUy6"
      },
      "execution_count": null,
      "outputs": []
    },
    {
      "cell_type": "markdown",
      "source": [
        "### Logistic regression"
      ],
      "metadata": {
        "id": "hUE_MzV-cexG"
      }
    },
    {
      "cell_type": "code",
      "source": [
        "classifier = LogisticRegression(solver = \"saga\")\n",
        "print(trainSentencesEmb.shape,Ytrain.shape)\n",
        "\n",
        "classifier.fit(trainSentencesEmb,Ytrain)\n",
        "pred_test = classifier.predict(testSentencesEmb)\n",
        "f1 = f1_score(Ytest, pred_test, average=\"weighted\")\n",
        "print(\"Test f1 score : %s \"% f1)\n",
        "\n",
        "acc = accuracy_score(Ytest, pred_test)\n",
        "print(\"Test accuracy score : %s \\n\"% acc)\n",
        "\n",
        "pred_train = classifier.predict(trainSentencesEmb)\n",
        "\n",
        "f1 = f1_score(Ytrain, pred_train, average=\"weighted\")\n",
        "print(\"Train f1 score : %s \"% f1)\n",
        "\n",
        "acc = accuracy_score(Ytrain, pred_train)\n",
        "print(\"Train accuracy score : %s \\n\"% acc)"
      ],
      "metadata": {
        "colab": {
          "base_uri": "https://localhost:8080/"
        },
        "id": "Ct1QtQgUchVy",
        "outputId": "e20982ca-a7cb-4ad6-d5d0-de5c006e5cc3"
      },
      "execution_count": null,
      "outputs": [
        {
          "output_type": "stream",
          "name": "stdout",
          "text": [
            "(2211861, 100) (2211861,)\n",
            "Test f1 score : 0.7328113468281303 \n",
            "Test accuracy score : 0.7380734411555284 \n",
            "\n",
            "Train f1 score : 0.7284466419898832 \n",
            "Train accuracy score : 0.7335899498205357 \n",
            "\n"
          ]
        }
      ]
    },
    {
      "cell_type": "markdown",
      "source": [
        "## Visualization of Embeddings"
      ],
      "metadata": {
        "id": "IrjuvKXOctCH"
      }
    },
    {
      "cell_type": "code",
      "source": [
        "model = model2"
      ],
      "metadata": {
        "id": "rKdl_ZgBc8lO"
      },
      "execution_count": null,
      "outputs": []
    },
    {
      "cell_type": "code",
      "source": [
        "# fit a 2d PCA model to the vectors\n",
        "X = model.wv[model.wv.index_to_key]\n",
        "pca = PCA(n_components=2)\n",
        "result = pca.fit_transform(X)\n",
        "# create a scatter plot of the projection\n",
        "plt.scatter(result[:, 0], result[:, 1])\n",
        "words = list(model.wv.index_to_key)\n",
        "for i, word in enumerate(words):\n",
        "    plt.annotate(word, xy=(result[i, 0], result[i, 1]))\n",
        "\n",
        "plt.rcParams[\"figure.figsize\"] = (50,50)\n",
        "plt.show()"
      ],
      "metadata": {
        "id": "JHcHSXrosEK8"
      },
      "execution_count": null,
      "outputs": []
    },
    {
      "cell_type": "markdown",
      "source": [
        "## Semantic relationships"
      ],
      "metadata": {
        "id": "AOG6TtMpdL4f"
      }
    },
    {
      "cell_type": "code",
      "source": [
        "model.wv.most_similar(positive=['cancer', 'treatment'], negative=[])"
      ],
      "metadata": {
        "colab": {
          "base_uri": "https://localhost:8080/"
        },
        "id": "aI6kk4Itc5Ir",
        "outputId": "bbaa97ef-6d60-42b7-b7e4-76b6b9defafb"
      },
      "execution_count": null,
      "outputs": [
        {
          "output_type": "execute_result",
          "data": {
            "text/plain": [
              "[('therapy', 0.5981952548027039),\n",
              " ('chemotherapy', 0.59699547290802),\n",
              " ('adt', 0.5850258469581604),\n",
              " ('carcinoma', 0.5705400109291077),\n",
              " ('adenocarcinoma', 0.5670432448387146),\n",
              " ('radiotherapy', 0.5546224117279053),\n",
              " ('cancers', 0.5474623441696167),\n",
              " ('nsclc', 0.5358273386955261),\n",
              " ('chemoradiotherapy', 0.5350561738014221),\n",
              " ('carcinomas', 0.5090665221214294)]"
            ]
          },
          "metadata": {},
          "execution_count": 31
        }
      ]
    },
    {
      "cell_type": "code",
      "source": [
        "model.wv.most_similar(positive=['cancer', 'lump'], negative=[])"
      ],
      "metadata": {
        "colab": {
          "base_uri": "https://localhost:8080/"
        },
        "id": "i_O3moCzc_Td",
        "outputId": "f00e5ca9-6ac3-4ee4-ebf8-c61cd0290a0a"
      },
      "execution_count": null,
      "outputs": [
        {
          "output_type": "execute_result",
          "data": {
            "text/plain": [
              "[('selfexamination', 0.8004909157752991),\n",
              " ('cancerspecific', 0.7884374260902405),\n",
              " ('cancers', 0.7829902172088623),\n",
              " ('carcinomaassociated', 0.7549611926078796),\n",
              " ('selfexam', 0.7426938414573669),\n",
              " ('adenocarcinoma', 0.742071270942688),\n",
              " ('gynecomastia', 0.7235526442527771),\n",
              " ('carcinogenesis', 0.7217583060264587),\n",
              " ('carcinomas', 0.721035897731781),\n",
              " ('carcinoma', 0.7202872037887573)]"
            ]
          },
          "metadata": {},
          "execution_count": 32
        }
      ]
    },
    {
      "cell_type": "code",
      "source": [
        "model.wv.most_similar(positive=['cancer', 'woman'], negative=[])"
      ],
      "metadata": {
        "colab": {
          "base_uri": "https://localhost:8080/"
        },
        "id": "qUnti-evdAm0",
        "outputId": "81f9a464-faa3-4f9a-e0b2-77d496e97120"
      },
      "execution_count": null,
      "outputs": [
        {
          "output_type": "execute_result",
          "data": {
            "text/plain": [
              "[('cancers', 0.6981176137924194),\n",
              " ('carcinoma', 0.6075315475463867),\n",
              " ('women', 0.5971040725708008),\n",
              " ('crc', 0.592994749546051),\n",
              " ('couples', 0.5862561464309692),\n",
              " ('adenocarcinoma', 0.5522218942642212),\n",
              " ('carcinomas', 0.5466548800468445),\n",
              " ('selfexamination', 0.543510913848877),\n",
              " ('partners', 0.5431241989135742),\n",
              " ('cancerspecific', 0.5382487773895264)]"
            ]
          },
          "metadata": {},
          "execution_count": 33
        }
      ]
    },
    {
      "cell_type": "code",
      "source": [
        "model.wv.most_similar(positive=['health', 'human'], negative=[])"
      ],
      "metadata": {
        "colab": {
          "base_uri": "https://localhost:8080/"
        },
        "id": "pgvSrtoRdB07",
        "outputId": "01682eea-5721-4467-d0b8-8e59446985d0"
      },
      "execution_count": null,
      "outputs": [
        {
          "output_type": "execute_result",
          "data": {
            "text/plain": [
              "[('heath', 0.5478385090827942),\n",
              " ('rights', 0.5298905968666077),\n",
              " ('ageing', 0.5269554257392883),\n",
              " ('farm', 0.5239627361297607),\n",
              " ('gutbrain', 0.5190560817718506),\n",
              " ('welfare', 0.5114969611167908),\n",
              " ('workerfamily', 0.5077306032180786),\n",
              " ('aging', 0.5067070722579956),\n",
              " ('healthpromoting', 0.4956786632537842),\n",
              " ('justice', 0.49528566002845764)]"
            ]
          },
          "metadata": {},
          "execution_count": 34
        }
      ]
    },
    {
      "cell_type": "code",
      "source": [
        "model.wv.most_similar(positive=['disease', 'women'], negative=['men'])"
      ],
      "metadata": {
        "colab": {
          "base_uri": "https://localhost:8080/"
        },
        "id": "tUA6y5KXdC4y",
        "outputId": "d053ed69-41c2-4050-a245-94576254830c"
      },
      "execution_count": null,
      "outputs": [
        {
          "output_type": "execute_result",
          "data": {
            "text/plain": [
              "[('diseases', 0.5256254076957703),\n",
              " ('ileitis', 0.5022828578948975),\n",
              " ('ileocolitis', 0.45716652274131775),\n",
              " ('anticrc', 0.44415441155433655),\n",
              " ('vasculitis', 0.4392277002334595),\n",
              " ('borreliosis', 0.4344944357872009),\n",
              " ('illness', 0.42388835549354553),\n",
              " ('diseaseweight', 0.42109325528144836),\n",
              " ('baselinevstreatment', 0.4190898537635803),\n",
              " ('failure', 0.41428568959236145)]"
            ]
          },
          "metadata": {},
          "execution_count": 35
        }
      ]
    },
    {
      "cell_type": "code",
      "source": [
        "model.wv.most_similar(positive=['disease', 'men'], negative=['women'])"
      ],
      "metadata": {
        "colab": {
          "base_uri": "https://localhost:8080/"
        },
        "id": "1nCA2rLcdE1W",
        "outputId": "34abc537-056c-433a-d85a-946f6be4d05c"
      },
      "execution_count": null,
      "outputs": [
        {
          "output_type": "execute_result",
          "data": {
            "text/plain": [
              "[('diseases', 0.5390373468399048),\n",
              " ('ileitis', 0.5217354893684387),\n",
              " ('atherosclerosis', 0.5045921802520752),\n",
              " ('calcification', 0.4862903654575348),\n",
              " ('cardiomyopathy', 0.4651171565055847),\n",
              " ('fibrosis', 0.4648686647415161),\n",
              " ('nonbevacizumabtreated', 0.46118056774139404),\n",
              " ('emphysema', 0.45085158944129944),\n",
              " ('diseaserelated', 0.4446144104003906),\n",
              " ('nonhemochromatotic', 0.43893247842788696)]"
            ]
          },
          "metadata": {},
          "execution_count": 36
        }
      ]
    },
    {
      "cell_type": "code",
      "source": [
        "model.wv.most_similar(positive=['cancer'], negative=['treatment'])"
      ],
      "metadata": {
        "colab": {
          "base_uri": "https://localhost:8080/"
        },
        "id": "Tlr_EL1YdGM0",
        "outputId": "5f452ba2-815b-4ae1-b8de-816fbb3f2cf2"
      },
      "execution_count": null,
      "outputs": [
        {
          "output_type": "execute_result",
          "data": {
            "text/plain": [
              "[('cancerspecific', 0.6213210821151733),\n",
              " ('plco', 0.5832172632217407),\n",
              " ('carcinogenesis', 0.5607367753982544),\n",
              " ('carcinoma', 0.5454698801040649),\n",
              " ('cancers', 0.5433659553527832),\n",
              " ('selfexamination', 0.5414717197418213),\n",
              " ('selfexam', 0.5405081510543823),\n",
              " ('adenocarcinoma', 0.5357382297515869),\n",
              " ('endocoil', 0.5349986553192139),\n",
              " ('carcinomaassociated', 0.520575761795044)]"
            ]
          },
          "metadata": {},
          "execution_count": 37
        }
      ]
    },
    {
      "cell_type": "markdown",
      "source": [
        "# Task 3"
      ],
      "metadata": {
        "id": "9pyV-lHfhrL3"
      }
    },
    {
      "cell_type": "code",
      "source": [
        "tokenizer = AutoTokenizer.from_pretrained(\"emilyalsentzer/Bio_ClinicalBERT\")"
      ],
      "metadata": {
        "id": "1hJUbmAXhrxH"
      },
      "execution_count": null,
      "outputs": []
    },
    {
      "cell_type": "code",
      "source": [
        "dataset = load_dataset('text', data_files={'train': ['train.txt'], 'dev':['dev.txt'], 'test':['test.txt']})"
      ],
      "metadata": {
        "id": "rW7o-CWJrexU"
      },
      "execution_count": null,
      "outputs": []
    },
    {
      "cell_type": "code",
      "source": [
        "#Creating the labels\n",
        "label_mapping = {\"BACKGROUND\":0,\"OBJECTIVE\":1,\"METHODS\":2,\"RESULTS\":3,\"CONCLUSIONS\":4}\n",
        "\n",
        "filtered_dataset = dataset.filter(lambda one_sentence: one_sentence['text'].split(\"\\t\")[0] in label_mapping.keys())\n",
        "\n",
        "def generate_labels(one_sentence):\n",
        "  return {'label':label_mapping[one_sentence[\"text\"].split(\"\\t\")[0]] ,'text':one_sentence[\"text\"]}\n",
        "\n",
        "labelled_dataset = filtered_dataset.map(generate_labels, batched=False)"
      ],
      "metadata": {
        "id": "Pt76R2TtrgFK"
      },
      "execution_count": null,
      "outputs": []
    },
    {
      "cell_type": "code",
      "source": [
        "max_length = 256\n",
        "def tokenize_function_max(one_sentence):\n",
        "    return tokenizer(one_sentence[\"text\"], padding=\"max_length\", truncation=True, max_length=max_length)\n",
        "\n",
        "def tokenize_function_simple(one_sentence):\n",
        "    return tokenizer(one_sentence[\"text\"])\n",
        "\n",
        "tokenized_dataset2 = labelled_dataset.map(tokenize_function_max, batched=True)\n",
        "\n",
        "tokenized_dataset = labelled_dataset.map(tokenize_function_simple, batched=True)"
      ],
      "metadata": {
        "id": "1ygPcO9OrgvT"
      },
      "execution_count": null,
      "outputs": []
    },
    {
      "cell_type": "code",
      "source": [
        "small_train2 = tokenized_dataset2[\"train\"].shuffle(seed=42).select(range(50000))\n",
        "small_dev2 = tokenized_dataset2[\"dev\"].shuffle(seed=42).select(range(1000))"
      ],
      "metadata": {
        "id": "D1dXRKC9rlMO"
      },
      "execution_count": null,
      "outputs": []
    },
    {
      "cell_type": "code",
      "source": [
        "#See below for meaning of suffixes\n",
        "model_T0 = AutoModelForSequenceClassification.from_pretrained(\"emilyalsentzer/Bio_ClinicalBERT\", num_labels=5)\n",
        "model_T1 = AutoModelForSequenceClassification.from_pretrained(\"emilyalsentzer/Bio_ClinicalBERT\", num_labels=5)\n",
        "model_T2 = AutoModelForSequenceClassification.from_pretrained(\"emilyalsentzer/Bio_ClinicalBERT\", num_labels=5)"
      ],
      "metadata": {
        "id": "W9DoH3Lbrx-v"
      },
      "execution_count": null,
      "outputs": []
    },
    {
      "cell_type": "code",
      "source": [
        "#using 5 epochs\n",
        "training_args = TrainingArguments(output_dir=\"test_trainer\", evaluation_strategy=\"epoch\", per_device_train_batch_size=16, per_device_eval_batch_size=16, num_train_epochs=5)"
      ],
      "metadata": {
        "id": "Z6VSrY8Xr1Ki"
      },
      "execution_count": null,
      "outputs": []
    },
    {
      "cell_type": "code",
      "source": [
        "metric = load_metric(\"accuracy\")\n",
        "def compute_metrics(eval_pred):\n",
        "    logits, labels = eval_pred\n",
        "    predictions = np.argmax(logits, axis=-1)\n",
        "    return metric.compute(predictions=predictions, references=labels)"
      ],
      "metadata": {
        "id": "Gxx4RhYir29L"
      },
      "execution_count": null,
      "outputs": []
    },
    {
      "cell_type": "markdown",
      "source": [
        "## T0: No fine-tuning (just training classifier head)"
      ],
      "metadata": {
        "id": "6Udgxqupr6xL"
      }
    },
    {
      "cell_type": "code",
      "source": [
        "for param in model_T0.base_model.parameters():\n",
        "    param.requires_grad = False"
      ],
      "metadata": {
        "id": "gWnpkDOCr6j5"
      },
      "execution_count": null,
      "outputs": []
    },
    {
      "cell_type": "code",
      "source": [
        "trainer_T0 = Trainer(\n",
        "    model=model_T0,\n",
        "    args=training_args,\n",
        "    train_dataset= small_train2,\n",
        "    eval_dataset= small_dev2,\n",
        "    compute_metrics= compute_metrics,\n",
        ")"
      ],
      "metadata": {
        "id": "72qxbmfLr9Nl"
      },
      "execution_count": null,
      "outputs": []
    },
    {
      "cell_type": "code",
      "source": [
        "sum(p.numel() for p in model_T0.parameters() if p.requires_grad)\n",
        "#Checking number of trainable parameters to ensure correct freezing"
      ],
      "metadata": {
        "id": "mRPioWddr-Yd"
      },
      "execution_count": null,
      "outputs": []
    },
    {
      "cell_type": "code",
      "source": [
        "trainer_T0.train()"
      ],
      "metadata": {
        "id": "IMtU2YzfsnGh"
      },
      "execution_count": null,
      "outputs": []
    },
    {
      "cell_type": "code",
      "source": [
        "testing_args = TrainingArguments(output_dir=\"eval_trainer\", evaluation_strategy=\"epoch\", per_device_train_batch_size=16, per_device_eval_batch_size=16, num_train_epochs=5)\n",
        "\n",
        "metric = load_metric(\"accuracy\")\n",
        "def compute_metrics_testing(eval_pred):\n",
        "    logits, labels = eval_pred\n",
        "    predictions = np.argmax(logits, axis=-1)\n",
        "\n",
        "    print(f\"weighted f1_score: {f1_score(labels, predictions,  average='weighted')}\")\n",
        "    print(f\"accuracy: {confusion_matrix(labels, predictions, normalize ='true')}\")\n",
        "    return metric.compute(predictions=predictions, references=labels)\n",
        "\n",
        "eval_trainer_T0 = Trainer(\n",
        "    model=model_T0,\n",
        "    args=testing_args,\n",
        "    eval_dataset= tokenized_dataset2[\"test\"],\n",
        "    compute_metrics= compute_metrics_testing,\n",
        ")"
      ],
      "metadata": {
        "id": "UL7SQNfZsoLH"
      },
      "execution_count": null,
      "outputs": []
    },
    {
      "cell_type": "code",
      "source": [
        "eval_trainer_T0.evaluate()"
      ],
      "metadata": {
        "id": "juEUta4lsq1q"
      },
      "execution_count": null,
      "outputs": []
    },
    {
      "cell_type": "markdown",
      "source": [
        "## T1: Fine-tuning (last BERT layer)"
      ],
      "metadata": {
        "id": "mPcXV5OhssOJ"
      }
    },
    {
      "cell_type": "code",
      "source": [
        "for param in model_T1.base_model.parameters():\n",
        "    param.requires_grad = False\n",
        "for param in model_T1.base_model.encoder.layer[11].parameters():\n",
        "    param.requires_grad = True"
      ],
      "metadata": {
        "id": "h6Lu9BMVssw3"
      },
      "execution_count": null,
      "outputs": []
    },
    {
      "cell_type": "code",
      "source": [
        "trainer_T1 = Trainer(\n",
        "    model=model_T1,\n",
        "    args=training_args,\n",
        "    train_dataset= small_train2,\n",
        "    eval_dataset= small_dev2,\n",
        "    compute_metrics= compute_metrics,\n",
        ")"
      ],
      "metadata": {
        "id": "w47LLET2svX4"
      },
      "execution_count": null,
      "outputs": []
    },
    {
      "cell_type": "code",
      "source": [
        "trainer_T1.train()"
      ],
      "metadata": {
        "id": "fI1N_QfCsw_J"
      },
      "execution_count": null,
      "outputs": []
    },
    {
      "cell_type": "code",
      "source": [
        "metric = load_metric(\"accuracy\")\n",
        "\n",
        "eval_trainer_T1 = Trainer(\n",
        "    model=model_T1,\n",
        "    args=testing_args,\n",
        "    eval_dataset= tokenized_dataset2[\"test\"],\n",
        "    compute_metrics= compute_metrics_testing,\n",
        ")"
      ],
      "metadata": {
        "id": "NmzsvRgFsx74"
      },
      "execution_count": null,
      "outputs": []
    },
    {
      "cell_type": "code",
      "source": [
        "eval_trainer_T1.evaluate()"
      ],
      "metadata": {
        "id": "sR3Eoi0ysy7p"
      },
      "execution_count": null,
      "outputs": []
    },
    {
      "cell_type": "markdown",
      "source": [
        "## T2: Fine-tuning (last 2 BERT layers)"
      ],
      "metadata": {
        "id": "yx-w7GJis0pj"
      }
    },
    {
      "cell_type": "code",
      "source": [
        "for param in model_T2.base_model.parameters():\n",
        "    param.requires_grad = False\n",
        "for param in model_T2.base_model.encoder.layer[10].parameters():\n",
        "    param.requires_grad = True\n",
        "for param in model_T2.base_model.encoder.layer[11].parameters():\n",
        "    param.requires_grad = True"
      ],
      "metadata": {
        "id": "WQwFvVeys1de"
      },
      "execution_count": null,
      "outputs": []
    },
    {
      "cell_type": "code",
      "source": [
        "trainer_T2 = Trainer(\n",
        "    model=model_T2,\n",
        "    args=training_args,\n",
        "    train_dataset= small_train2,\n",
        "    eval_dataset= small_dev2,\n",
        "    compute_metrics= compute_metrics,\n",
        ")"
      ],
      "metadata": {
        "id": "tDVijB-bs36L"
      },
      "execution_count": null,
      "outputs": []
    },
    {
      "cell_type": "code",
      "source": [
        "trainer_T2.train()"
      ],
      "metadata": {
        "id": "1bMPCW2Is5E7"
      },
      "execution_count": null,
      "outputs": []
    },
    {
      "cell_type": "code",
      "source": [
        "metric = load_metric(\"accuracy\")\n",
        "\n",
        "eval_trainer_T2 = Trainer(\n",
        "    model=model_T2,\n",
        "    args=testing_args,\n",
        "    eval_dataset= tokenized_dataset2[\"test\"],\n",
        "    compute_metrics= compute_metrics_testing,\n",
        ")"
      ],
      "metadata": {
        "id": "Rk8uM7vLs6C1"
      },
      "execution_count": null,
      "outputs": []
    },
    {
      "cell_type": "code",
      "source": [
        "eval_trainer_T2.evaluate()"
      ],
      "metadata": {
        "id": "cHkJC6UUs7Sc"
      },
      "execution_count": null,
      "outputs": []
    }
  ]
}